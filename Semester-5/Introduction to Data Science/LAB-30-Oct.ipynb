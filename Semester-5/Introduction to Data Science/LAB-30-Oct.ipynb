{
 "cells": [
  {
   "cell_type": "markdown",
   "metadata": {},
   "source": [
    "# IDS LAB (30-Oct-2024)"
   ]
  },
  {
   "cell_type": "markdown",
   "metadata": {},
   "source": [
    "**1. *Create a 1D array of integers from 1 to 20. Reshape it into a 4x5 2D array, then replace all elements in the last column with zeros. Finally, flatten the array back to 1D and print the result.***"
   ]
  },
  {
   "cell_type": "code",
   "execution_count": 4,
   "metadata": {},
   "outputs": [
    {
     "name": "stdout",
     "output_type": "stream",
     "text": [
      "Final Matrix: \n",
      " [ 1  2  3  4  0  6  7  8  9  0 11 12 13 14  0 16 17 18 19  0]\n"
     ]
    }
   ],
   "source": [
    "import numpy as np\n",
    "\n",
    "lst = []\n",
    "for i in range(1,21):\n",
    "    lst.append(i)\n",
    "arr = np.array(lst)\n",
    "arr2 = arr.reshape(4,5)\n",
    "arr2[:,-1] = 0\n",
    "final = arr2.flatten()\n",
    "print(\"Final Matrix: \\n\",final)"
   ]
  },
  {
   "cell_type": "markdown",
   "metadata": {},
   "source": [
    "**2. *Generate a 2D array of random integers between 10 and 50 with a shape of 5x5. Calculate and print the mean, sum, minimum, and maximum values for each row and each column separately.***"
   ]
  },
  {
   "cell_type": "code",
   "execution_count": 2,
   "metadata": {},
   "outputs": [
    {
     "name": "stdout",
     "output_type": "stream",
     "text": [
      "2D Array:  [[10 13 13 49 19]\n",
      " [29 31 46 33 16]\n",
      " [34 34 22 11 48]\n",
      " [49 33 34 27 47]\n",
      " [35 23 18 19 30]]\n",
      "Rows Sum:  [104 155 149 190 125]\n",
      "Rows Mean:  [20.8 31.  29.8 38.  25. ]\n",
      "Rows Min:  [10 16 11 27 18]\n",
      "Rows Max:  [49 46 48 49 35]\n",
      "Cols Sum:  [157 134 133 139 160]\n",
      "Cols Mean:  [31.4 26.8 26.6 27.8 32. ]\n",
      "Cols Min:  [10 13 13 11 16]\n",
      "Cols Max:  [49 34 46 49 48]\n"
     ]
    }
   ],
   "source": [
    "import numpy as np\n",
    "\n",
    "np.random.seed(0)\n",
    "arr = np.random.randint(10,51,size=(5,5))\n",
    "print(\"2D Array: \\n\",arr)\n",
    "\n",
    "print(\"Rows Sum: \", np.sum(arr,axis = 1))\n",
    "print(\"Rows Mean: \", np.mean(arr,axis = 1))\n",
    "print(\"Rows Min: \", np.min(arr,axis = 1))\n",
    "print(\"Rows Max: \", np.max(arr,axis = 1))\n",
    "\n",
    "print(\"Cols Sum: \", np.sum(arr,axis = 0))\n",
    "print(\"Cols Mean: \", np.mean(arr,axis = 0))\n",
    "print(\"Cols Min: \", np.min(arr,axis = 0))\n",
    "print(\"Cols Max: \", np.max(arr,axis = 0))"
   ]
  },
  {
   "cell_type": "markdown",
   "metadata": {},
   "source": [
    "**3. *Create an identity matrix of size 4x4. Add a constant (e.g., 5) to each element in the diagonal, and then replace the last row with a row of ones. Print the final matrix.***"
   ]
  },
  {
   "cell_type": "code",
   "execution_count": 5,
   "metadata": {},
   "outputs": [
    {
     "name": "stdout",
     "output_type": "stream",
     "text": [
      "Identity Matrix: \n",
      " [[1. 0. 0. 0.]\n",
      " [0. 1. 0. 0.]\n",
      " [0. 0. 1. 0.]\n",
      " [0. 0. 0. 1.]]\n",
      "Updated Matrix: \n",
      " [[6. 0. 0. 0.]\n",
      " [0. 6. 0. 0.]\n",
      " [0. 0. 6. 0.]\n",
      " [0. 0. 0. 6.]]\n",
      "Final Matrix: \n",
      " [[6. 0. 0. 0.]\n",
      " [0. 6. 0. 0.]\n",
      " [0. 0. 6. 0.]\n",
      " [1. 1. 1. 1.]]\n"
     ]
    }
   ],
   "source": [
    "import numpy as np\n",
    "\n",
    "mat = np.identity(4)\n",
    "print(\"Identity Matrix: \\n\", mat)\n",
    "np.fill_diagonal(mat,np.diagonal(mat)+5)\n",
    "print(\"Updated Matrix: \\n\", mat)\n",
    "mat[-1,:]=1\n",
    "print(\"Final Matrix: \\n\", mat)"
   ]
  },
  {
   "cell_type": "markdown",
   "metadata": {},
   "source": [
    "**4. *Generate a 1D array of 15 random integers between 0 and 20. Count and display the number of occurrences of each unique value in the array, and list the indices of elements greater than 10.***"
   ]
  },
  {
   "cell_type": "code",
   "execution_count": 8,
   "metadata": {},
   "outputs": [
    {
     "name": "stdout",
     "output_type": "stream",
     "text": [
      "Array: \n",
      " [12 15  0  3  3  7  9 19 18  4  6 12  1  6  7]\n",
      "Count of unique values\n",
      "0: 1\n",
      "1: 1\n",
      "3: 2\n",
      "4: 1\n",
      "6: 2\n",
      "7: 2\n",
      "9: 1\n",
      "12: 2\n",
      "15: 1\n",
      "18: 1\n",
      "19: 1\n",
      "Indices for >10:  [ 0  1  7  8 11]\n"
     ]
    }
   ],
   "source": [
    "import numpy as np\n",
    "\n",
    "np.random.seed(0)\n",
    "arr = np.random.randint(0,21,size=15)\n",
    "print(\"Array: \\n\",arr)\n",
    "\n",
    "unique, counts = np.unique(arr,return_counts=True)\n",
    "print(\"Count of unique values\")\n",
    "for val,count in zip(unique, counts):\n",
    "    print(f\"{val}: {count}\")\n",
    "\n",
    "ind = np.where(arr>10)[0]\n",
    "print(\"Indices for >10: \", ind)\n"
   ]
  }
 ],
 "metadata": {
  "kernelspec": {
   "display_name": "Python 3",
   "language": "python",
   "name": "python3"
  },
  "language_info": {
   "codemirror_mode": {
    "name": "ipython",
    "version": 3
   },
   "file_extension": ".py",
   "mimetype": "text/x-python",
   "name": "python",
   "nbconvert_exporter": "python",
   "pygments_lexer": "ipython3",
   "version": "3.11.3"
  }
 },
 "nbformat": 4,
 "nbformat_minor": 2
}
