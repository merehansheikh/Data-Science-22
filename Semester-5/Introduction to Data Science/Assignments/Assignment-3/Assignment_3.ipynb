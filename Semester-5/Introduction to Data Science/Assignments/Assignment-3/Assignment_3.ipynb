{
 "cells": [
  {
   "cell_type": "markdown",
   "id": "493f2b6f-4327-4b9f-8dfe-baf1d990ee91",
   "metadata": {},
   "source": [
    "# Task 1: E-commerce Data Processing\n",
    "*You are tasked with building a system to handle order and customer data for an online store. The system needs to use lambda functions, Python's built-in functions (e.g.,* `map()`, `filter()`, `reduce())`, *and proper exception handling.*"
   ]
  },
  {
   "cell_type": "code",
   "execution_count": null,
   "id": "26c5d996-35cc-41f6-ac2f-1093f52a3a70",
   "metadata": {},
   "outputs": [],
   "source": []
  }
 ],
 "metadata": {
  "kernelspec": {
   "display_name": "Python 3 (ipykernel)",
   "language": "python",
   "name": "python3"
  },
  "language_info": {
   "codemirror_mode": {
    "name": "ipython",
    "version": 3
   },
   "file_extension": ".py",
   "mimetype": "text/x-python",
   "name": "python",
   "nbconvert_exporter": "python",
   "pygments_lexer": "ipython3",
   "version": "3.11.3"
  }
 },
 "nbformat": 4,
 "nbformat_minor": 5
}
