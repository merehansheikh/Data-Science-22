{
 "cells": [
  {
   "cell_type": "markdown",
   "id": "493f2b6f-4327-4b9f-8dfe-baf1d990ee91",
   "metadata": {},
   "source": [
    "## Task 1: E-commerce Data Processing\n",
    "*You are tasked with building a system to handle order and customer data for an online store. The system needs to use* `lambda` *functions, Python's built-in functions (e.g.,* `map()`, `filter()`, `reduce())`, *and proper exception handling.*"
   ]
  },
  {
   "cell_type": "markdown",
   "id": "4e22538a",
   "metadata": {},
   "source": [
    "### Part A: Data Validation\n",
    "*You are given a list of dictionaries where each dictionary represents an order with customer details.*\n",
    "\n",
    "`orders = [ \n",
    "    {\"customer\": \"Alice\", \"total\": 250.5}, \n",
    "    {\"customer\": \"Bob\", \"total\": \"invalid_data\"}, \n",
    "    {\"customer\": \"Charlie\", \"total\": 450}, \n",
    "    {\"customer\": \"Daisy\", \"total\": 100.0}, \n",
    "    {\"customer\": \"Eve\", \"total\": -30},  # Invalid total \n",
    "]`\n",
    "\n",
    "**Write a function that:**\n",
    "\n",
    "* Uses a `lambda` function with the `filter()` built-in function to filter out invalid orders where the total is either non-numeric or less than zero.\n",
    "* Uses exception handling to handle any type conversion issues.\n",
    "* Return the filtered valid orders as a list of dictionaries."
   ]
  },
  {
   "cell_type": "code",
   "execution_count": 6,
   "id": "46119f84",
   "metadata": {},
   "outputs": [
    {
     "name": "stdout",
     "output_type": "stream",
     "text": [
      "[{'customer': 'Alice', 'total': 250.5}, {'customer': 'Charlie', 'total': 450}, {'customer': 'Daisy', 'total': 100.0}]\n"
     ]
    }
   ],
   "source": [
    "#Part A\n",
    "def filter_invalid(orders):\n",
    "    def is_valid(order):\n",
    "        try:\n",
    "            total = float(order['total'])\n",
    "            return total > 0\n",
    "        except ValueError:\n",
    "            return False\n",
    "\n",
    "    return list(filter(is_valid, orders))\n",
    "\n",
    "# Example usage\n",
    "orders = [\n",
    "    {\"customer\": \"Alice\", \"total\": 250.5}, \n",
    "    {\"customer\": \"Bob\", \"total\": \"invalid_data\"}, \n",
    "    {\"customer\": \"Charlie\", \"total\": 450}, \n",
    "    {\"customer\": \"Daisy\", \"total\": 100.0}, \n",
    "    {\"customer\": \"Eve\", \"total\": -30},  # Invalid total \n",
    "]\n",
    "\n",
    "valid_orders = filter_invalid(orders)\n",
    "print(valid_orders)"
   ]
  },
  {
   "cell_type": "markdown",
   "id": "927d752d",
   "metadata": {},
   "source": [
    "### Part B: Discount Application \n",
    "\n",
    "*After validating the orders, the store is offering a 10% discount on all orders above $300.*\n",
    "\n",
    "**Write a function that:**\n",
    "\n",
    "* Uses the `map()` function with a `lambda` to apply the discount to qualifying orders.\n",
    "* Returns a new list with the updated totals for each customer"
   ]
  },
  {
   "cell_type": "code",
   "execution_count": 7,
   "id": "6a9a81be",
   "metadata": {},
   "outputs": [
    {
     "name": "stdout",
     "output_type": "stream",
     "text": [
      "[{'customer': 'Alice', 'total': 250.5}, {'customer': 'Charlie', 'total': 405.0}, {'customer': 'Daisy', 'total': 100.0}]\n"
     ]
    }
   ],
   "source": [
    "#Part B\n",
    "def apply_discount(orders):\n",
    "    return list(map(lambda order: {**order, 'total': order['total'] * 0.9 if order['total'] > 300 else order['total']}, orders))\n",
    "\n",
    "discounted = apply_discount(valid_orders)\n",
    "print(discounted)"
   ]
  },
  {
   "cell_type": "markdown",
   "id": "22868841",
   "metadata": {},
   "source": [
    "### Part C: Total Sales Calculation \n",
    "Use the `reduce()` function with a `lambda` to: \n",
    "\n",
    "* Calculate the total sales from the list of valid orders (after applying discounts). "
   ]
  },
  {
   "cell_type": "code",
   "execution_count": 8,
   "id": "3d8d9f7b",
   "metadata": {},
   "outputs": [
    {
     "name": "stdout",
     "output_type": "stream",
     "text": [
      "755.5\n"
     ]
    }
   ],
   "source": [
    "from functools import reduce\n",
    "\n",
    "#Part C\n",
    "def total_sales(orders):\n",
    "    return reduce(lambda total, order: total + order['total'], orders, 0)\n",
    "\n",
    "total = total_sales(discounted)\n",
    "print(total)"
   ]
  },
  {
   "cell_type": "markdown",
   "id": "1a754763",
   "metadata": {},
   "source": [
    "## Task 2: Iterator and Generator"
   ]
  },
  {
   "cell_type": "markdown",
   "id": "6e11c511",
   "metadata": {},
   "source": [
    "### Part A: Custom Iterator\n",
    "\n",
    "Create a custom iterator class SquareIterator that:\n",
    "\n",
    "* Takes an integer `n` and iterates over the first `n` natural numbers, yielding their squares"
   ]
  },
  {
   "cell_type": "code",
   "execution_count": 9,
   "id": "f850f081",
   "metadata": {},
   "outputs": [
    {
     "name": "stdout",
     "output_type": "stream",
     "text": [
      "1\n",
      "4\n",
      "9\n",
      "16\n",
      "25\n"
     ]
    }
   ],
   "source": [
    "#Part A\n",
    "class SquareIterator:\n",
    "    def __init__(self, n):\n",
    "        self.n = n\n",
    "        self.i = 1\n",
    "\n",
    "    def __iter__(self):\n",
    "        return self\n",
    "\n",
    "    def __next__(self):\n",
    "        if self.i <= self.n:\n",
    "            result = self.i ** 2\n",
    "            self.i += 1\n",
    "            return result\n",
    "        else:\n",
    "            raise StopIteration\n",
    "        \n",
    "for square in SquareIterator(5):\n",
    "    print(square)"
   ]
  },
  {
   "cell_type": "markdown",
   "id": "018184c3",
   "metadata": {},
   "source": [
    "### Part B: Fibonacci Generator \n",
    "\n",
    "Write a generator function `fibonacci_generator()` that: \n",
    "\n",
    "* Yields the Fibonacci sequence up to the number `n`"
   ]
  },
  {
   "cell_type": "code",
   "execution_count": 10,
   "id": "bba78f81",
   "metadata": {},
   "outputs": [
    {
     "name": "stdout",
     "output_type": "stream",
     "text": [
      "0\n",
      "1\n",
      "1\n",
      "2\n",
      "3\n",
      "5\n",
      "8\n",
      "13\n",
      "21\n",
      "34\n"
     ]
    }
   ],
   "source": [
    "#Part B\n",
    "def fibonacci_generator(n):\n",
    "    a, b = 0, 1\n",
    "    for _ in range(n):\n",
    "        yield a\n",
    "        a, b = b, a + b\n",
    "\n",
    "for fib in fibonacci_generator(10):\n",
    "    print(fib)"
   ]
  },
  {
   "cell_type": "markdown",
   "id": "38beec22",
   "metadata": {},
   "source": [
    "## Task 3: Exception Handling and Function Decorator \n",
    "\n",
    "*You need to implement robust exception handling in the system*"
   ]
  },
  {
   "cell_type": "markdown",
   "id": "198d4ae6",
   "metadata": {},
   "source": [
    "### Part A: Chained Exceptions \n",
    "\n",
    "**Write a function that:**\n",
    "\n",
    "* Takes a list of numbers and tries to divide each number by a divisor. \n",
    "* If the divisor is zero, raise a custom exception. \n",
    "* If any other error occurs (e.g., non-numeric input), raise an appropriate exception and chain it to the custom exception to provide context."
   ]
  },
  {
   "cell_type": "code",
   "execution_count": 11,
   "id": "ec2defb5",
   "metadata": {},
   "outputs": [
    {
     "name": "stdout",
     "output_type": "stream",
     "text": [
      "Error: Cannot divide by zero\n"
     ]
    }
   ],
   "source": [
    "#Part A\n",
    "class DivisionByZeroError(Exception):\n",
    "    def __init__(self, message=\"Cannot divide by zero\"):\n",
    "        super().__init__(message)\n",
    "\n",
    "def divide_by(numbers, divisor):\n",
    "    try:\n",
    "        if divisor == 0:\n",
    "            raise DivisionByZeroError()\n",
    "        results = [num / divisor for num in numbers]\n",
    "    except TypeError as te:\n",
    "        raise DivisionByZeroError(f\"Division by zero error occurred due to non-numeric input: {te}\")\n",
    "    except ValueError as ve:\n",
    "        raise DivisionByZeroError(f\"Division by zero error occurred due to division error: {ve}\")\n",
    "    return results\n",
    "\n",
    "numbers = [1, 2, 3, 4]\n",
    "divisor = 0\n",
    "\n",
    "try:\n",
    "    results = divide_by(numbers, divisor)\n",
    "    print(results)\n",
    "except DivisionByZeroError as e:\n",
    "    print(f\"Error: {e}\")"
   ]
  },
  {
   "cell_type": "markdown",
   "id": "042530f5",
   "metadata": {},
   "source": [
    "### Part B: Exception Logging Decorator \n",
    "\n",
    "**Create a decorator that:**\n",
    "\n",
    "* Logs exceptions raised during the execution of a function. \n",
    "* It should print the exception type, message, and the function where the exception occurred. "
   ]
  },
  {
   "cell_type": "code",
   "execution_count": 14,
   "id": "a48c25c3",
   "metadata": {},
   "outputs": [
    {
     "name": "stdout",
     "output_type": "stream",
     "text": [
      "Exception occurred in divide:\n",
      "Type: ZeroDivisionError\n",
      "Message: division by zero\n"
     ]
    }
   ],
   "source": [
    "#Part B\n",
    "def log_exceptions(func):\n",
    "    def wrapper(*args, **kwargs):\n",
    "        try:\n",
    "            return func(*args, **kwargs)\n",
    "        except Exception as e:\n",
    "            print(f\"Exception occurred in {func.__name__}:\")\n",
    "            print(f\"Type: {type(e).__name__}\")\n",
    "            print(f\"Message: {str(e)}\")\n",
    "\n",
    "    return wrapper\n",
    "\n",
    "@log_exceptions\n",
    "def divide(a, b):\n",
    "    return a / b\n",
    "\n",
    "try:\n",
    "    result = divide(10, 0)\n",
    "except ZeroDivisionError:\n",
    "    print(\"Division by zero!\")"
   ]
  }
 ],
 "metadata": {
  "kernelspec": {
   "display_name": "\"Python/Mu (mu_venv-38-20231126-184032)\"",
   "language": "python",
   "name": "mu_venv-38-20231126-184032"
  },
  "language_info": {
   "codemirror_mode": {
    "name": "ipython",
    "version": 3
   },
   "file_extension": ".py",
   "mimetype": "text/x-python",
   "name": "python",
   "nbconvert_exporter": "python",
   "pygments_lexer": "ipython3",
   "version": "3.8.12"
  }
 },
 "nbformat": 4,
 "nbformat_minor": 5
}
