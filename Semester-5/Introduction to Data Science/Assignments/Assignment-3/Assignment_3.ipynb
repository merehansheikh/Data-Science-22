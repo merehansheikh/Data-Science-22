{
 "cells": [
  {
   "cell_type": "markdown",
   "id": "493f2b6f-4327-4b9f-8dfe-baf1d990ee91",
   "metadata": {},
   "source": [
    "## Task 1: E-commerce Data Processing\n",
    "*You are tasked with building a system to handle order and customer data for an online store. The system needs to use* `lambda` *functions, Python's built-in functions (e.g.,* `map()`, `filter()`, `reduce())`, *and proper exception handling.*"
   ]
  },
  {
   "cell_type": "markdown",
   "id": "4e22538a",
   "metadata": {},
   "source": [
    "### Part A: Data Validation\n",
    "*You are given a list of dictionaries where each dictionary represents an order with customer details.*\n",
    "\n",
    "`orders = [ \n",
    "    {\"customer\": \"Alice\", \"total\": 250.5}, \n",
    "    {\"customer\": \"Bob\", \"total\": \"invalid_data\"}, \n",
    "    {\"customer\": \"Charlie\", \"total\": 450}, \n",
    "    {\"customer\": \"Daisy\", \"total\": 100.0}, \n",
    "    {\"customer\": \"Eve\", \"total\": -30},  # Invalid total \n",
    "]`\n",
    "\n",
    "**Write a function that:**\n",
    "\n",
    "* Uses a `lambda` function with the `filter()` built-in function to filter out invalid orders where the total is either non-numeric or less than zero.\n",
    "* Uses exception handling to handle any type conversion issues.\n",
    "* Return the filtered valid orders as a list of dictionaries."
   ]
  },
  {
   "cell_type": "code",
   "execution_count": 8,
   "id": "46119f84",
   "metadata": {},
   "outputs": [
    {
     "name": "stdout",
     "output_type": "stream",
     "text": [
      "[{'customer': 'Alice', 'total': 250.5}, {'customer': 'Charlie', 'total': 450}, {'customer': 'Daisy', 'total': 100.0}]\n"
     ]
    }
   ],
   "source": [
    "#Part A\n",
    "def filter_invalid(orders):\n",
    "    def is_valid(order):\n",
    "        try:\n",
    "            total = float(order['total'])\n",
    "            return total > 0\n",
    "        except ValueError:\n",
    "            return False\n",
    "\n",
    "    return list(filter(is_valid, orders))\n",
    "\n",
    "# Example usage\n",
    "orders = [\n",
    "    {\"customer\": \"Alice\", \"total\": 250.5}, \n",
    "    {\"customer\": \"Bob\", \"total\": \"invalid_data\"}, \n",
    "    {\"customer\": \"Charlie\", \"total\": 450}, \n",
    "    {\"customer\": \"Daisy\", \"total\": 100.0}, \n",
    "    {\"customer\": \"Eve\", \"total\": -30},  # Invalid total \n",
    "]\n",
    "\n",
    "valid_orders = filter_invalid(orders)\n",
    "print(valid_orders)"
   ]
  },
  {
   "cell_type": "markdown",
   "id": "927d752d",
   "metadata": {},
   "source": [
    "### Part B: Discount Application \n",
    "\n",
    "*After validating the orders, the store is offering a 10% discount on all orders above $300.*\n",
    "\n",
    "**Write a function that:**\n",
    "\n",
    "* Uses the `map()` function with a `lambda` to apply the discount to qualifying orders.\n",
    "* Returns a new list with the updated totals for each customer"
   ]
  },
  {
   "cell_type": "code",
   "execution_count": 9,
   "id": "6a9a81be",
   "metadata": {},
   "outputs": [
    {
     "name": "stdout",
     "output_type": "stream",
     "text": [
      "[{'customer': 'Alice', 'total': 250.5}, {'customer': 'Charlie', 'total': 405.0}, {'customer': 'Daisy', 'total': 100.0}]\n"
     ]
    }
   ],
   "source": [
    "#Part B\n",
    "def apply_discount(orders):\n",
    "    return list(map(lambda order: {**order, 'total': order['total'] * 0.9 if order['total'] > 300 else order['total']}, orders))\n",
    "\n",
    "discounted = apply_discount(valid_orders)\n",
    "print(discounted)"
   ]
  },
  {
   "cell_type": "markdown",
   "id": "22868841",
   "metadata": {},
   "source": [
    "### Part C: Total Sales Calculation \n",
    "Use the `reduce()` function with a `lambda` to: \n",
    "• Calculate the total sales from the list of valid orders (after applying discounts). "
   ]
  },
  {
   "cell_type": "code",
   "execution_count": 10,
   "id": "3d8d9f7b",
   "metadata": {},
   "outputs": [
    {
     "name": "stdout",
     "output_type": "stream",
     "text": [
      "755.5\n"
     ]
    }
   ],
   "source": [
    "from functools import reduce\n",
    "\n",
    "#Part C\n",
    "def total_sales(orders):\n",
    "    return reduce(lambda total, order: total + order['total'], orders, 0)\n",
    "\n",
    "total = total_sales(discounted)\n",
    "print(total)"
   ]
  }
 ],
 "metadata": {
  "kernelspec": {
   "display_name": "\"Python/Mu (mu_venv-38-20231126-184032)\"",
   "language": "python",
   "name": "mu_venv-38-20231126-184032"
  },
  "language_info": {
   "codemirror_mode": {
    "name": "ipython",
    "version": 3
   },
   "file_extension": ".py",
   "mimetype": "text/x-python",
   "name": "python",
   "nbconvert_exporter": "python",
   "pygments_lexer": "ipython3",
   "version": "3.8.12"
  }
 },
 "nbformat": 4,
 "nbformat_minor": 5
}
