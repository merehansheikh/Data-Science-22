{
 "cells": [
  {
   "cell_type": "markdown",
   "id": "493f2b6f-4327-4b9f-8dfe-baf1d990ee91",
   "metadata": {},
   "source": [
    "## Task 1: E-commerce Data Processing\n",
    "*You are tasked with building a system to handle order and customer data for an online store. The system needs to use* `lambda` *functions, Python's built-in functions (e.g.,* `map()`, `filter()`, `reduce())`, *and proper exception handling.*"
   ]
  },
  {
   "cell_type": "markdown",
   "id": "4e22538a",
   "metadata": {},
   "source": [
    "### Part A: Data Validation\n",
    "You are given a list of dictionaries where each dictionary represents an order with customer \n",
    "details.\n",
    "\n",
    "`orders = [ \n",
    "    {\"customer\": \"Alice\", \"total\": 250.5}, \n",
    "    {\"customer\": \"Bob\", \"total\": \"invalid_data\"}, \n",
    "    {\"customer\": \"Charlie\", \"total\": 450}, \n",
    "    {\"customer\": \"Daisy\", \"total\": 100.0}, \n",
    "    {\"customer\": \"Eve\", \"total\": -30},  # Invalid total \n",
    "]`\n",
    "\n",
    "**Write a function that:**\n",
    "\n",
    "* Uses a lambda function with the filter() built-in function to filter out invalid orders where the total is either non-numeric or less than zero.\n",
    "* Uses exception handling to handle any type conversion issues.\n",
    "* Return the filtered valid orders as a list of dictionaries."
   ]
  },
  {
   "cell_type": "code",
   "execution_count": 5,
   "id": "46119f84",
   "metadata": {},
   "outputs": [
    {
     "name": "stdout",
     "output_type": "stream",
     "text": [
      "[{'customer': 'Alice', 'total': 250.5}, {'customer': 'Charlie', 'total': 450}, {'customer': 'Daisy', 'total': 100.0}]\n"
     ]
    }
   ],
   "source": [
    "#Part A\n",
    "def filter_invalid(orders):\n",
    "    def is_valid(order):\n",
    "        try:\n",
    "            total = float(order['total'])\n",
    "            return total > 0\n",
    "        except ValueError:\n",
    "            return False\n",
    "\n",
    "    return list(filter(is_valid, orders))\n",
    "\n",
    "# Example usage\n",
    "orders = [\n",
    "    {\"customer\": \"Alice\", \"total\": 250.5}, \n",
    "    {\"customer\": \"Bob\", \"total\": \"invalid_data\"}, \n",
    "    {\"customer\": \"Charlie\", \"total\": 450}, \n",
    "    {\"customer\": \"Daisy\", \"total\": 100.0}, \n",
    "    {\"customer\": \"Eve\", \"total\": -30},  # Invalid total \n",
    "]\n",
    "\n",
    "valid_orders = filter_invalid(orders)\n",
    "print(valid_orders)"
   ]
  }
 ],
 "metadata": {
  "kernelspec": {
   "display_name": "\"Python/Mu (mu_venv-38-20231126-184032)\"",
   "language": "python",
   "name": "mu_venv-38-20231126-184032"
  },
  "language_info": {
   "codemirror_mode": {
    "name": "ipython",
    "version": 3
   },
   "file_extension": ".py",
   "mimetype": "text/x-python",
   "name": "python",
   "nbconvert_exporter": "python",
   "pygments_lexer": "ipython3",
   "version": "3.8.12"
  }
 },
 "nbformat": 4,
 "nbformat_minor": 5
}
