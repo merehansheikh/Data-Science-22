{
 "cells": [
  {
   "cell_type": "markdown",
   "metadata": {},
   "source": [
    "# Scenario: Climate Data Analysis for a Research Center"
   ]
  },
  {
   "cell_type": "markdown",
   "metadata": {},
   "source": [
    "*As a data scientist at a climate research center, you have been provided with daily temperature and humidity data collected from 500 locations over one year. Your objective is to analyze this data for trends, seasonal patterns, and other useful metrics tha t can aid in understanding climate changes across various regions.*"
   ]
  },
  {
   "cell_type": "markdown",
   "metadata": {},
   "source": [
    "## Assignment Tasks"
   ]
  },
  {
   "cell_type": "markdown",
   "metadata": {},
   "source": [
    "### 1. Initialize Temperature and Humidity Data\n",
    "Set up two arrays to represent daily data:\n",
    "* `temperature_data`: Randomly generated temperature values in Celsius, ranging between `-10` and `40` degrees, for each of the `500` locations across `365` days.\n",
    "* `humidity_data`: Randomly generated humidity percentages, ranging from `0` to `100`, for each location and day."
   ]
  },
  {
   "cell_type": "code",
   "execution_count": 19,
   "metadata": {},
   "outputs": [],
   "source": [
    "import numpy as np\n",
    "\n",
    "temperature_data = np.random.uniform(-10, 40, (500, 365))\n",
    "humidity_data = np.random.uniform(0, 100, (500, 365))\n"
   ]
  },
  {
   "cell_type": "markdown",
   "metadata": {},
   "source": [
    "### 2. Check for Missing Data \n",
    "Simulate missing data by randomly setting `5%` of the values in `temperature_data` and `humidity_data` to null values. Determine how many null values exist in each array and report the total number of missing entries."
   ]
  },
  {
   "cell_type": "code",
   "execution_count": 13,
   "metadata": {},
   "outputs": [
    {
     "name": "stdout",
     "output_type": "stream",
     "text": [
      "Total missing temperature values: 8977\n",
      "Total missing humidity values: 8920\n"
     ]
    }
   ],
   "source": [
    "mask_temp = np.random.rand(*temperature_data.shape) < 0.05\n",
    "temperature_data[mask_temp] = np.nan\n",
    "\n",
    "mask_humid = np.random.rand(*humidity_data.shape) < 0.05\n",
    "humidity_data[mask_humid] = np.nan\n",
    "\n",
    "print(\"Total missing temperature values:\", np.isnan(temperature_data).sum())\n",
    "print(\"Total missing humidity values:\", np.isnan(humidity_data).sum())"
   ]
  },
  {
   "cell_type": "markdown",
   "metadata": {},
   "source": [
    "### 3. Convert Temperature and Calculate Discomfort Index \n",
    "Convert `temperature_data` from Celsius to Fahrenheit to facilitate data sharing with international teams. Then, compute a \"`feels like`\" discomfort index by combining temperature and humidity data.\n",
    "* Ensure that any values in the \"`feels like`\" index that exceed `80` are capped at `80`, meaning they should be set to `80` if they are originally greater than `80`."
   ]
  },
  {
   "cell_type": "code",
   "execution_count": 23,
   "metadata": {},
   "outputs": [],
   "source": [
    "temperature_data_fahrenheit = temperature_data * 9/5 + 32\n",
    "discomfort_index = 0.8 * temperature_data_fahrenheit + 0.6 * humidity_data\n",
    "discomfort_index = np.minimum(discomfort_index, 80)\n"
   ]
  },
  {
   "cell_type": "markdown",
   "metadata": {},
   "source": [
    "### 4. Analyze January Temperatures \n",
    "Extract the daily temperatures for January (first 31 days). Calculate and display the average January temperature across all 500 locations."
   ]
  },
  {
   "cell_type": "code",
   "execution_count": 20,
   "metadata": {},
   "outputs": [
    {
     "name": "stdout",
     "output_type": "stream",
     "text": [
      "Average January temperature across locations: 14.920665584343665\n"
     ]
    }
   ],
   "source": [
    "january_temps = temperature_data[:, :31]\n",
    "avg_january_temp = np.mean(january_temps, axis=1)\n",
    "print(\"Average January temperature across locations:\", np.mean(avg_january_temp))"
   ]
  },
  {
   "cell_type": "markdown",
   "metadata": {},
   "source": [
    "### 5. Identify Extreme Temperatures \n",
    "Mark any temperature in `temperature_data` that exceeds `35°C` as a potential error by replacing it with a null value. Count the number of null values per location."
   ]
  },
  {
   "cell_type": "code",
   "execution_count": 16,
   "metadata": {},
   "outputs": [],
   "source": [
    "temperature_data[temperature_data > 35] = np.nan\n",
    "extreme_temp_counts = np.isnan(temperature_data).sum(axis=1)"
   ]
  },
  {
   "cell_type": "markdown",
   "metadata": {},
   "source": [
    "### 6. Calculate Quarterly Temperature Averages \n",
    "Reshape `temperature_data` into four quarters (one per season) and calculate the average temperature for each location across these quarters."
   ]
  },
  {
   "cell_type": "code",
   "execution_count": 25,
   "metadata": {},
   "outputs": [],
   "source": [
    "quarters = np.split(temperature_data, [90, 181, 273], axis=1)\n",
    "\n",
    "quarterly_avg_temps = [np.nanmean(q, axis=1) for q in quarters]\n",
    "quarterly_avg_temps = np.array(quarterly_avg_temps).T "
   ]
  },
  {
   "cell_type": "markdown",
   "metadata": {},
   "source": [
    "### 7. Classify Humidity Levels \n",
    "Classify each day’s humidity level as \"`Dry`\" if below `30%` and \"`Humid`\" if above `70%`, and count the total number of \"`Dry`\" and \"`Humid`\" days for each location."
   ]
  },
  {
   "cell_type": "code",
   "execution_count": 26,
   "metadata": {},
   "outputs": [],
   "source": [
    "humidity_classification = np.where(humidity_data < 30, \"Dry\", \"Humid\")\n",
    "dry_days = np.sum(humidity_classification == \"Dry\", axis=1)\n",
    "humid_days = np.sum(humidity_classification == \"Humid\", axis=1)"
   ]
  },
  {
   "cell_type": "markdown",
   "metadata": {},
   "source": [
    "### 8. Apply Daily Pressure Trend to Temperature Data \n",
    "Account for daily atmospheric pressure variations by generating a trend across the `365` days and applying it to adjust daily temperatures at each location."
   ]
  },
  {
   "cell_type": "code",
   "execution_count": 27,
   "metadata": {},
   "outputs": [],
   "source": [
    "pressure_trend = np.linspace(-2, 2, 365)\n",
    "temperature_data_adjusted = temperature_data + pressure_trend"
   ]
  }
 ],
 "metadata": {
  "kernelspec": {
   "display_name": "Python 3",
   "language": "python",
   "name": "python3"
  },
  "language_info": {
   "codemirror_mode": {
    "name": "ipython",
    "version": 3
   },
   "file_extension": ".py",
   "mimetype": "text/x-python",
   "name": "python",
   "nbconvert_exporter": "python",
   "pygments_lexer": "ipython3",
   "version": "3.11.3"
  }
 },
 "nbformat": 4,
 "nbformat_minor": 2
}
