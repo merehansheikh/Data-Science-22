{
 "cells": [
  {
   "cell_type": "markdown",
   "id": "72575e58-7e30-48f3-b00f-9d9edf33d0c3",
   "metadata": {},
   "source": [
    "# Building a Smart Data Aggregator\n",
    "\n",
    "### Scenario:\n",
    "*You have been hired by a startup working on a Smart Data Aggregator tool. The goal of the tool is to manage and analyze large sets of user data efficiently. The startup focuses on different types of collections (List, Tuple, Set, and Dictionary) to handle various tasks such as real-time analytics, tracking data, and reporting. Your task is to develop different modules for the aggregator using Python.*"
   ]
  },
  {
   "cell_type": "markdown",
   "id": "7a3084aa-ed2c-4818-9527-3efce4229850",
   "metadata": {},
   "source": [
    "## Part 1: User Data Processing with Lists\n",
    "*You are provided with user information in the form of a list of tuples. Each tuple represents a user with the format: (user_id, user_name, age, country). The list can contain more than 100 records, and you are required to:*"
   ]
  },
  {
   "cell_type": "markdown",
   "id": "ad8a4f7d-d09f-4f92-8aff-fa5836a7c444",
   "metadata": {},
   "source": [
    "**Write a function to:**\n",
    "* Filter out users older than 30 from specific countries (‘USA’, ‘Canada’).\n",
    "* Extract their names into a new list."
   ]
  },
  {
   "cell_type": "code",
   "execution_count": 14,
   "id": "b75391dc-bd0a-4d00-af5c-ed2e1c0c0036",
   "metadata": {},
   "outputs": [
    {
     "name": "stdout",
     "output_type": "stream",
     "text": [
      "['Bob', 'David', 'Eve']\n"
     ]
    }
   ],
   "source": [
    "def filter_names(lst):\n",
    "    filtered = []\n",
    "    for i in lst:\n",
    "        if i[2]>30 and i[3] in ('USA','Canada'):\n",
    "            filtered.append(i[1])\n",
    "    return filtered\n",
    "\n",
    "#Sample Run\n",
    "users = [\n",
    "  (1, 'Alice', 25, 'USA'),\n",
    "  (2, 'Bob', 35, 'Canada'),\n",
    "  (3, 'Charlie', 28, 'UK'),\n",
    "  (4, 'David', 40, 'USA'),\n",
    "  (5, 'Eve', 32, 'Canada'),\n",
    "  (6, 'Frank', 20, 'France'),\n",
    "]\n",
    "\n",
    "filtered_names = filter_names(users)\n",
    "print(filtered_names)"
   ]
  },
  {
   "cell_type": "markdown",
   "id": "70bca02b-ef0e-4d6e-8d8a-91095df7a1d6",
   "metadata": {},
   "source": [
    "**Implement a function that:**\n",
    "* Sorts the original list of tuples by age and returns the top 10 oldest users.\n",
    "* checks if there are any users with duplicate names in the list. If duplicates are found, output those names."
   ]
  },
  {
   "cell_type": "code",
   "execution_count": 36,
   "id": "9379aa4a-c416-4f19-b3db-1ac6e81e5a88",
   "metadata": {},
   "outputs": [
    {
     "name": "stdout",
     "output_type": "stream",
     "text": [
      "Bob\n",
      "Alice\n",
      "[(9, 'Chris', 65), (11, 'Harry', 51), (4, 'David', 40), (2, 'Bob', 35), (10, 'Black', 34), (5, 'Eve', 32), (3, 'Charlie', 28), (7, 'Alice', 27), (1, 'Alice', 25), (8, 'Bob', 25)]\n"
     ]
    }
   ],
   "source": [
    "def top_10(lst):\n",
    "    sorts = sorted(lst, key = lambda lst: lst[2],reverse=True)\n",
    "    tops = sorts[:10]\n",
    "    dicts = dict()\n",
    "    for i in tops:\n",
    "        if i[1] not in dicts.keys():\n",
    "            dicts[i[1]] = 1\n",
    "        else:\n",
    "            dicts[i[1]] += 1\n",
    "    for key,value in dicts.items():\n",
    "        if value>1:\n",
    "            print(key)\n",
    "    return tops\n",
    "\n",
    "#Sample Run\n",
    "users = [\n",
    "    (1, 'Alice', 25),\n",
    "    (2, 'Bob', 35),\n",
    "    (3, 'Charlie', 28),\n",
    "    (4, 'David', 40),\n",
    "    (5, 'Eve', 32),\n",
    "    (6, 'Frank', 20),\n",
    "    (7, 'Alice', 27),\n",
    "    (8, 'Bob', 25),\n",
    "    (9, 'Chris', 65),\n",
    "    (10, 'Black', 34),\n",
    "    (11, 'Harry', 51)\n",
    "]\n",
    "print(top_10(users))"
   ]
  },
  {
   "cell_type": "markdown",
   "id": "2a25e036-f363-4393-8bd7-dd74816a7ee4",
   "metadata": {},
   "source": [
    "## Part 2: Immutable Data Management with Tuples\n",
    "*You need to handle transaction data from the aggregator's analytics module. This data is stored in the form of tuples since it needs to remain immutable. Each transaction is represented as a tuple: (transaction_id, user_id, amount, timestamp).*"
   ]
  },
  {
   "cell_type": "markdown",
   "id": "c98999f7-e967-4f08-a309-21b1f40a47a9",
   "metadata": {},
   "source": [
    "**Write a function that:**\n",
    "* Takes alist of transactions (tuples) and finds the total number of unique users involved in transactions.\n",
    "* Ensures the integrity of the tuples by avoiding any changes to the original data."
   ]
  },
  {
   "cell_type": "code",
   "execution_count": 16,
   "id": "c2bb8287-704e-492c-932a-eabadb020d0f",
   "metadata": {},
   "outputs": [
    {
     "name": "stdout",
     "output_type": "stream",
     "text": [
      "8\n"
     ]
    }
   ],
   "source": [
    "def unique_users(lst):\n",
    "    unq = set()\n",
    "    for user in lst:\n",
    "        unq.add(user[1])\n",
    "    return len(unq)\n",
    "\n",
    "#Sample Run\n",
    "sample_data = [\n",
    "    (384494, 944, 85.0356541519755, \"2024-10-08 19:46:47.874666\"),\n",
    "    (232811, 48, 74.17326988286018, \"2024-10-13 22:32:48.874796\"),\n",
    "    (592939, 932, 96.71273372699045, \"2024-10-14 10:38:44.874811\"),\n",
    "    (992793, 48, 46.478930026829595, \"2024-10-08 18:41:43.874831\"),\n",
    "    (523355, 131, 87.19392716304333, \"2024-10-14 03:28:45.874845\"),\n",
    "    (118269, 240, 43.5524580205134, \"2024-10-11 20:22:07.874860\"),\n",
    "    (646962, 372, 64.85933082188453, \"2024-10-10 10:44:29.874875\"),\n",
    "    (687738, 33, 85.23815373846004, \"2024-10-11 07:37:49.874889\"),\n",
    "    (910311, 189, 97.67079804570515, \"2024-10-10 02:43:19.874903\"),\n",
    "    (581775, 932, 87.12950665048676, \"2024-10-11 07:17:44.874946\")\n",
    "]\n",
    "print(unique_users(sample_data))"
   ]
  },
  {
   "cell_type": "markdown",
   "id": "8c43c577-193d-4aca-98a9-667c6adafc78",
   "metadata": {},
   "source": [
    " **Implement a function that:**\n",
    "* Identifies and returns the transaction with the highest amount without altering the list of tuples.\n",
    "* receives a list of tuples and returns two separate lists: one containing all the transaction_ids and the other containing all user_ids. What challenges might arise if the tuple size is inconsistent?\n"
   ]
  },
  {
   "cell_type": "code",
   "execution_count": 17,
   "id": "646f0a65-d4f0-4d1e-bed3-29ec005c4d70",
   "metadata": {},
   "outputs": [
    {
     "name": "stdout",
     "output_type": "stream",
     "text": [
      "(910311, 189, 97.67079804570515, '2024-10-10 02:43:19.874903')\n"
     ]
    }
   ],
   "source": [
    "def highest_amount(lst):\n",
    "    mx = 0\n",
    "    usr = None\n",
    "    for user  in lst:\n",
    "        if  user[2] > mx:\n",
    "            mx = user[2]\n",
    "            usr = user\n",
    "    return usr\n",
    "\n",
    "#Sample Run\n",
    "sample_data = [\n",
    "    (384494, 944, 85.0356541519755, \"2024-10-08 19:46:47.874666\"),\n",
    "    (232811, 48, 74.17326988286018, \"2024-10-13 22:32:48.874796\"),\n",
    "    (592939, 932, 96.71273372699045, \"2024-10-14 10:38:44.874811\"),\n",
    "    (992793, 48, 46.478930026829595, \"2024-10-08 18:41:43.874831\"),\n",
    "    (523355, 131, 87.19392716304333, \"2024-10-14 03:28:45.874845\"),\n",
    "    (118269, 240, 43.5524580205134, \"2024-10-11 20:22:07.874860\"),\n",
    "    (646962, 372, 64.85933082188453, \"2024-10-10 10:44:29.874875\"),\n",
    "    (687738, 33, 85.23815373846004, \"2024-10-11 07:37:49.874889\"),\n",
    "    (910311, 189, 97.67079804570515, \"2024-10-10 02:43:19.874903\"),\n",
    "    (581775, 932, 87.12950665048676, \"2024-10-11 07:17:44.874946\")\n",
    "]\n",
    "\n",
    "print(highest_amount(sample_data))"
   ]
  },
  {
   "cell_type": "code",
   "execution_count": 18,
   "id": "ef63fe2d-f200-4694-b4b1-6da573e00cdd",
   "metadata": {},
   "outputs": [
    {
     "name": "stdout",
     "output_type": "stream",
     "text": [
      "([384494, 232811, 592939, 992793, 523355, 118269, 646962, 687738, 910311, 581775], [944, 48, 932, 48, 131, 240, 372, 33, 189, 932])\n"
     ]
    }
   ],
   "source": [
    "def separate(lst):\n",
    "    trans_id = []\n",
    "    user_id = []\n",
    "    for user in lst:\n",
    "        trans_id.append(user[0])\n",
    "        user_id.append(user[1])\n",
    "    return trans_id, user_id\n",
    "\n",
    "#Sample Run\n",
    "sample_data = [\n",
    "    (384494, 944, 85.0356541519755, \"2024-10-08 19:46:47.874666\"),\n",
    "    (232811, 48, 74.17326988286018, \"2024-10-13 22:32:48.874796\"),\n",
    "    (592939, 932, 96.71273372699045, \"2024-10-14 10:38:44.874811\"),\n",
    "    (992793, 48, 46.478930026829595, \"2024-10-08 18:41:43.874831\"),\n",
    "    (523355, 131, 87.19392716304333, \"2024-10-14 03:28:45.874845\"),\n",
    "    (118269, 240, 43.5524580205134, \"2024-10-11 20:22:07.874860\"),\n",
    "    (646962, 372, 64.85933082188453, \"2024-10-10 10:44:29.874875\"),\n",
    "    (687738, 33, 85.23815373846004, \"2024-10-11 07:37:49.874889\"),\n",
    "    (910311, 189, 97.67079804570515, \"2024-10-10 02:43:19.874903\"),\n",
    "    (581775, 932, 87.12950665048676, \"2024-10-11 07:17:44.874946\")\n",
    "]\n",
    "\n",
    "print(separate(sample_data))"
   ]
  },
  {
   "cell_type": "markdown",
   "id": "0833d130-aef1-4eb5-8bbf-478b7990fd3f",
   "metadata": {},
   "source": [
    "## Part 3: Unique Data Handling with Sets\n",
    "*The Smart Data Aggregator also manages sets of unique user IDs who visited certain pages. You have three sets, each representing user IDs of visitors to pages A, B, and C.*"
   ]
  },
  {
   "cell_type": "markdown",
   "id": "75a4a003-a2e1-4582-a4ac-fbf4ae3499f8",
   "metadata": {},
   "source": [
    "**Write a function that:**\n",
    "* Finds the users who visited both Page A and Page B.\n",
    "* Finds users who visited either Page A or Page C, but not both."
   ]
  },
  {
   "cell_type": "code",
   "execution_count": 19,
   "id": "fafbf923-bba0-4806-a1b0-9089cd57ba9d",
   "metadata": {},
   "outputs": [
    {
     "name": "stdout",
     "output_type": "stream",
     "text": [
      "{1, 3, 5, 6, 7, 8}\n"
     ]
    }
   ],
   "source": [
    "def visit_a_and_b(A,B):\n",
    "    return A & B\n",
    "\n",
    "#Sample Run\n",
    "A = {1,2,3,4,5,6,7,8,9,10}\n",
    "B = {1,3,5,6,7,8,11,12,45}\n",
    "\n",
    "print(visit_a_and_b(A,B))"
   ]
  },
  {
   "cell_type": "code",
   "execution_count": 20,
   "id": "d24bc7b7-f994-427b-a03b-2581686c31a9",
   "metadata": {},
   "outputs": [
    {
     "name": "stdout",
     "output_type": "stream",
     "text": [
      "{2, 3, 4, 5, 8, 9, 10, 15, 16, 21, 22, 25}\n"
     ]
    }
   ],
   "source": [
    "def visit_a_or_c(A,C):\n",
    "    return A ^ C\n",
    "\n",
    "#Sample Run\n",
    "A = {1,2,3,4,5,6,7,8,9,10}\n",
    "C = {21,22,1,6,7,25,15,16}\n",
    "\n",
    "print(visit_a_or_c(A,C))"
   ]
  },
  {
   "cell_type": "markdown",
   "id": "5dfa479a-9368-46c8-891d-676e180ba441",
   "metadata": {},
   "source": [
    "**Implement a function that:**\n",
    "* Updates the set for Page A with new user IDs.\n",
    "* Removes a list of user IDs from the set for Page B."
   ]
  },
  {
   "cell_type": "code",
   "execution_count": 21,
   "id": "35cb91fa-dc8a-45c5-b1bf-7a69d7969eb1",
   "metadata": {},
   "outputs": [
    {
     "name": "stdout",
     "output_type": "stream",
     "text": [
      "{1, 2, 3, 4, 5, 6, 7, 8, 9, 10, 11, 41, 51, 21, 31}\n"
     ]
    }
   ],
   "source": [
    "def update(A,lst):\n",
    "    for i in lst:\n",
    "        A.add(i)\n",
    "    return A\n",
    "\n",
    "#Sample Run\n",
    "A = {1,2,3,4,5,6,7,8,9,10}\n",
    "l = [1,11,21,31,41,51]\n",
    "\n",
    "print(update(A,l))"
   ]
  },
  {
   "cell_type": "code",
   "execution_count": 38,
   "id": "f964b434-2adc-4816-98b4-457db76bb100",
   "metadata": {},
   "outputs": [
    {
     "name": "stdout",
     "output_type": "stream",
     "text": [
      "{3, 5, 6, 7, 8, 12, 45}\n"
     ]
    }
   ],
   "source": [
    "def remove(B,lst):\n",
    "    for user in lst:\n",
    "        if user in B:\n",
    "            B.remove(user)\n",
    "    return B\n",
    "\n",
    "#Sample Run\n",
    "B = {1,3,5,6,7,8,11,12,45}\n",
    "l = [1,11,21,31,41,51]\n",
    "\n",
    "print(remove(B,l))"
   ]
  },
  {
   "cell_type": "markdown",
   "id": "5466a58c-717c-44aa-b08c-49250c177f3c",
   "metadata": {},
   "source": [
    "## Part 4: Data Aggregation with Dictionaries\n",
    "*The aggregator collects user feedback stored in a dictionary. The dictionary uses the user_id as keys, and the values are nested dictionaries with feedback details: {'rating': int, 'comments': str}.*"
   ]
  },
  {
   "cell_type": "markdown",
   "id": "c506fee5-3106-463d-aecd-f37e192392fe",
   "metadata": {},
   "source": [
    "**Write a function that:**\n",
    "* Filters out users who rated 4 or higher and stores their user_id and rating in a new dictionary.\n",
    "* sort the dictionary of user feedback by rating in descending order and return the top 5 users."
   ]
  },
  {
   "cell_type": "code",
   "execution_count": 23,
   "id": "ad6a4fe4-41bd-45bb-85bf-1bd29ac2855e",
   "metadata": {},
   "outputs": [
    {
     "name": "stdout",
     "output_type": "stream",
     "text": [
      "{1: 5, 3: 4, 5: 5, 7: 4, 9: 5}\n"
     ]
    }
   ],
   "source": [
    "def feedback(dicts):\n",
    "    fourplus = dict()\n",
    "    for key,value in dicts.items():\n",
    "        if value['rating']>=4:\n",
    "            fourplus[key] = value['rating']\n",
    "    return fourplus\n",
    "\n",
    "#Sample Run\n",
    "user_feedback = {\n",
    "    1: {'rating': 5, 'comments': 'Excellent product!'},\n",
    "    2: {'rating': 3, 'comments': 'Could be better.'},\n",
    "    3: {'rating': 4, 'comments': 'Good overall, but some minor issues.'},\n",
    "    4: {'rating': 2, 'comments': 'Not satisfied with the purchase.'},\n",
    "    5: {'rating': 5, 'comments': 'Highly recommend this product!'},\n",
    "    6: {'rating': 1, 'comments': 'Terrible product, avoid it.'},\n",
    "    7: {'rating': 4, 'comments': 'Great value for the price.'},\n",
    "    8: {'rating': 3, 'comments': 'Could use some improvements.'},\n",
    "    9: {'rating': 5, 'comments': 'Best product I\\'ve ever bought!'},\n",
    "    10: {'rating': 2, 'comments': 'Not worth the money.'}\n",
    "}\n",
    "\n",
    "print(feedback(user_feedback))"
   ]
  },
  {
   "cell_type": "code",
   "execution_count": 24,
   "id": "a9ffc6ea-c8bb-4621-b7df-29a1070fc1d3",
   "metadata": {},
   "outputs": [
    {
     "name": "stdout",
     "output_type": "stream",
     "text": [
      "{1: 5, 5: 5, 9: 5, 3: 4, 7: 4}\n"
     ]
    }
   ],
   "source": [
    "def top5(dicts):\n",
    "    tops  = dict()\n",
    "\n",
    "    sorts = sorted(dicts,key=lambda x:dicts[x]['rating'],reverse=True)\n",
    "    for  i in range(5):\n",
    "        tops[sorts[i]] = dicts[sorts[i]]['rating']\n",
    "    return tops\n",
    "\n",
    "#Sample Run\n",
    "user_feedback = {\n",
    "    1: {'rating': 5, 'comments': 'Excellent product!'},\n",
    "    2: {'rating': 3, 'comments': 'Could be better.'},\n",
    "    3: {'rating': 4, 'comments': 'Good overall, but some minor issues.'},\n",
    "    4: {'rating': 2, 'comments': 'Not satisfied with the purchase.'},\n",
    "    5: {'rating': 5, 'comments': 'Highly recommend this product!'},\n",
    "    6: {'rating': 1, 'comments': 'Terrible product, avoid it.'},\n",
    "    7: {'rating': 4, 'comments': 'Great value for the price.'},\n",
    "    8: {'rating': 3, 'comments': 'Could use some improvements.'},\n",
    "    9: {'rating': 5, 'comments': 'Best product I\\'ve ever bought!'},\n",
    "    10: {'rating': 2, 'comments': 'Not worth the money.'}\n",
    "}\n",
    "\n",
    "print(top5(user_feedback))"
   ]
  },
  {
   "cell_type": "markdown",
   "id": "f2b9e144-40bd-4ab0-8038-9ca1a2205498",
   "metadata": {},
   "source": [
    "**Implement a function that:**\n",
    "* Combines feedback from multiple dictionaries. If a user is present in more than one dictionary, update their rating to the highest one and append their comments.\n",
    "* Use dictionary comprehension to create a dictionary of user_id and rating for all users whose rating is greater than 3."
   ]
  },
  {
   "cell_type": "code",
   "execution_count": 25,
   "id": "dc78e974-b8f0-469c-9884-ed57132c673a",
   "metadata": {},
   "outputs": [
    {
     "name": "stdout",
     "output_type": "stream",
     "text": [
      "{1: {'rating': 5, 'comments': 'Excellent product!Great product, but a bit expensive.'}, 2: {'rating': 3, 'comments': 'Could be better.'}, 3: {'rating': 4, 'comments': 'Good overall, but some minor issues.Not satisfied with the purchase.'}, 4: {'rating': 4, 'comments': 'Not satisfied with the purchase.Good overall, but some minor issues.'}, 5: {'rating': 5, 'comments': 'Highly recommend this product!'}, 6: {'rating': 1, 'comments': 'Terrible product, avoid it.'}, 7: {'rating': 4, 'comments': 'Great value for the price.'}, 8: {'rating': 3, 'comments': 'Could use some improvements.'}, 9: {'rating': 5, 'comments': \"Best product I've ever bought!\"}, 10: {'rating': 2, 'comments': 'Not worth the money.'}, 11: {'rating': 3, 'comments': 'Could be better, but overall satisfied.'}, 13: {'rating': 5, 'comments': 'Excellent product!'}}\n"
     ]
    }
   ],
   "source": [
    "def combine_feedback(dicts1, dicts2):\n",
    "    combined_fb = {}\n",
    "    keys1 = list(dicts1.keys())\n",
    "    keys2 = list(dicts2.keys())\n",
    "    all_keys = set(keys1+keys2)\n",
    "    for usr in all_keys:\n",
    "        if usr in keys1:\n",
    "            rat1 = dicts1[usr]['rating']\n",
    "            com1 = dicts1[usr]['comments']\n",
    "        else:\n",
    "            rat1 = 0\n",
    "            com1 = ''\n",
    "        if usr in keys2:\n",
    "            rat2 = dicts2[usr]['rating']\n",
    "            com2 = dicts2[usr]['comments']\n",
    "        else:\n",
    "            rat2 = 0\n",
    "            com2 = ''\n",
    "        combined_rat = max(rat1, rat2)\n",
    "        combined_coms = com1 + com2\n",
    "        combined_fb[usr] = {'rating': combined_rat, 'comments': combined_coms}\n",
    "    return combined_fb\n",
    "\n",
    "#Sample Run\n",
    "user_feedback_1 = {\n",
    "    1: {'rating': 5, 'comments': 'Excellent product!'},\n",
    "    2: {'rating': 3, 'comments': 'Could be better.'},\n",
    "    3: {'rating': 4, 'comments': 'Good overall, but some minor issues.'},\n",
    "    4: {'rating': 2, 'comments': 'Not satisfied with the purchase.'},\n",
    "    5: {'rating': 5, 'comments': 'Highly recommend this product!'},\n",
    "    6: {'rating': 1, 'comments': 'Terrible product, avoid it.'},\n",
    "    7: {'rating': 4, 'comments': 'Great value for the price.'},\n",
    "    8: {'rating': 3, 'comments': 'Could use some improvements.'},\n",
    "    9: {'rating': 5, 'comments': 'Best product I\\'ve ever bought!'},\n",
    "    10: {'rating': 2, 'comments': 'Not worth the money.'}}\n",
    "user_feedback_2 = {\n",
    "    1: {'rating': 4, 'comments': 'Great product, but a bit expensive.'},\n",
    "    11: {'rating': 3, 'comments': 'Could be better, but overall satisfied.'},\n",
    "    13: {'rating': 5, 'comments': 'Excellent product!'},\n",
    "    3: {'rating': 2, 'comments': 'Not satisfied with the purchase.'},\n",
    "    4: {'rating': 4, 'comments': 'Good overall, but some minor issues.'},\n",
    "}\n",
    "\n",
    "print(combine_feedback(user_feedback_1,user_feedback_2))"
   ]
  },
  {
   "cell_type": "code",
   "execution_count": 26,
   "id": "74c84021-6341-4677-a4c1-5be61a977751",
   "metadata": {},
   "outputs": [
    {
     "name": "stdout",
     "output_type": "stream",
     "text": [
      "{1: 5, 3: 4, 5: 5, 7: 4, 9: 5}\n"
     ]
    }
   ],
   "source": [
    "def high_rating(dicts):\n",
    "    return {user_id: user_feedback['rating'] for user_id, user_feedback in dicts.items() if user_feedback['rating']>3}\n",
    "\n",
    "#Sample Run\n",
    "user_feedback = {\n",
    "    1: {'rating': 5, 'comments': 'Excellent product!'},\n",
    "    2: {'rating': 3, 'comments': 'Could be better.'},\n",
    "    3: {'rating': 4, 'comments': 'Good overall, but some minor issues.'},\n",
    "    4: {'rating': 2, 'comments': 'Not satisfied with the purchase.'},\n",
    "    5: {'rating': 5, 'comments': 'Highly recommend this product!'},\n",
    "    6: {'rating': 1, 'comments': 'Terrible product, avoid it.'},\n",
    "    7: {'rating': 4, 'comments': 'Great value for the price.'},\n",
    "    8: {'rating': 3, 'comments': 'Could use some improvements.'},\n",
    "    9: {'rating': 5, 'comments': 'Best product I\\'ve ever bought!'},\n",
    "    10: {'rating': 2, 'comments': 'Not worth the money.'}}\n",
    "\n",
    "print(high_rating(user_feedback))"
   ]
  },
  {
   "cell_type": "markdown",
   "id": "d449a9e9-9ef5-4213-ada2-1c15c409bd68",
   "metadata": {},
   "source": [
    "\n",
    "### Credits\n",
    "\n",
    "**Name:** Muhammad Rehan\n",
    "\n",
    "**Roll no.** BSDSF22A001\n",
    "\n",
    "FCIT - University of the Punjab\n"
   ]
  }
 ],
 "metadata": {
  "kernelspec": {
   "display_name": "Python 3",
   "language": "python",
   "name": "python3"
  },
  "language_info": {
   "codemirror_mode": {
    "name": "ipython",
    "version": 3
   },
   "file_extension": ".py",
   "mimetype": "text/x-python",
   "name": "python",
   "nbconvert_exporter": "python",
   "pygments_lexer": "ipython3",
   "version": "3.11.3"
  }
 },
 "nbformat": 4,
 "nbformat_minor": 5
}
