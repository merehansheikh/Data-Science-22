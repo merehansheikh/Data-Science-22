{
 "cells": [
  {
   "cell_type": "markdown",
   "id": "a059de9d",
   "metadata": {},
   "source": [
    "# PandasAi\n",
    "### PandasAI is a Python library that makes it easy to ask questions to your data in natural language."
   ]
  },
  {
   "cell_type": "markdown",
   "id": "bd5f1cf9",
   "metadata": {},
   "source": [
    "\n",
    "## Features\n",
    "- Natural language querying: Ask questions to your data in natural language.\n",
    "- Data visualization: Generate graphs and charts to visualize your data.\n",
    "- Data cleansing: Cleanse datasets by addressing missing values.\n",
    "- Feature generation: Enhance data quality through feature generation.\n",
    "- Data connectors: Connect to various data sources like CSV, XLSX, PostgreSQL, MySQL, BigQuery, Databrick, Snowflake, etc."
   ]
  },
  {
   "cell_type": "markdown",
   "id": "25324315",
   "metadata": {},
   "source": [
    "### By default, unless you choose a different LLM, it will use BambooLLM.\n",
    "### You can get your free API key signing up at https://pandabi.ai (you can also configure it in your .env file)"
   ]
  },
  {
   "cell_type": "markdown",
   "id": "c562cd74",
   "metadata": {},
   "source": [
    "# How does PandasAI work?\n",
    "PandasAI uses a generative AI model to understand and interpret natural language queries and translate them into python code and SQL queries. It then uses the code to interact with the data and return the results to the user."
   ]
  },
  {
   "cell_type": "markdown",
   "id": "346723fc",
   "metadata": {},
   "source": [
    "#### To get started with PandasAI, you first need to install it. You can do this by running the following command:"
   ]
  },
  {
   "cell_type": "code",
   "execution_count": 1,
   "id": "37cb2ce5",
   "metadata": {},
   "outputs": [],
   "source": [
    "# Using poetry (recommended)\n",
    "#poetry add pandasai\n",
    "\n",
    "# Using pip\n",
    "#!pip install pandasai\n"
   ]
  },
  {
   "cell_type": "code",
   "execution_count": 2,
   "id": "6bd5708d",
   "metadata": {},
   "outputs": [],
   "source": [
    "import os\n",
    "import pandas as pd\n",
    "from pandasai import Agent\n",
    "os.environ[\"PANDASAI_API_KEY\"] = \"Your Key Here\""
   ]
  },
  {
   "cell_type": "markdown",
   "id": "4103fe89",
   "metadata": {},
   "source": [
    "#### Once you have installed PandasAI, you can start using it by importing the SmartDataframe class and instantiating it with your data. You can then use the chat method to ask questions to your data in natural language."
   ]
  },
  {
   "cell_type": "code",
   "execution_count": 3,
   "id": "f1a955ee",
   "metadata": {
    "scrolled": true
   },
   "outputs": [
    {
     "data": {
      "text/plain": [
       "'The top 5 countries by sales are: China, United States, Japan, Germany, United Kingdom'"
      ]
     },
     "execution_count": 3,
     "metadata": {},
     "output_type": "execute_result"
    }
   ],
   "source": [
    "# Sample DataFrame\n",
    "sales_by_country = pd.DataFrame({\n",
    "    \"country\": [\"United States\", \"United Kingdom\", \"France\", \"Germany\", \"Italy\", \"Spain\", \"Canada\", \"Australia\", \"Japan\", \"China\"],\n",
    "    \"sales\": [5000, 3200, 2900, 4100, 2300, 2100, 2500, 2600, 4500, 7000]\n",
    "})\n",
    "\n",
    "agent = Agent(sales_by_country)\n",
    "agent.chat('Which are the top 5 countries by sales?')\n",
    "## Output\n",
    "# China, United States, Japan, Germany, Australia"
   ]
  },
  {
   "cell_type": "code",
   "execution_count": null,
   "id": "edbd2bb2",
   "metadata": {},
   "outputs": [],
   "source": []
  },
  {
   "cell_type": "code",
   "execution_count": 4,
   "id": "7629d5d6",
   "metadata": {},
   "outputs": [
    {
     "data": {
      "text/plain": [
       "'The top 5 countries by sales are: China, United States, Japan, Germany, United Kingdom.'"
      ]
     },
     "execution_count": 4,
     "metadata": {},
     "output_type": "execute_result"
    }
   ],
   "source": [
    "import os\n",
    "from pandasai import Agent\n",
    "import pandas as pd\n",
    "\n",
    "# Sample DataFrames\n",
    "sales_by_country = pd.DataFrame({\n",
    "    \"country\": [\"United States\", \"United Kingdom\", \"France\", \"Germany\", \"Italy\", \"Spain\", \"Canada\", \"Australia\", \"Japan\", \"China\"],\n",
    "    \"sales\": [5000, 3200, 2900, 4100, 2300, 2100, 2500, 2600, 4500, 7000],\n",
    "    \"deals_opened\": [142, 80, 70, 90, 60, 50, 40, 30, 110, 120],\n",
    "    \"deals_closed\": [120, 70, 60, 80, 50, 40, 30, 20, 100, 110]\n",
    "})\n",
    "\n",
    "\n",
    "agent = Agent(sales_by_country)\n",
    "agent.chat('Which are the top 5 countries by sales?')\n",
    "# Output: China, United States, Japan, Germany, Australia\n"
   ]
  },
  {
   "cell_type": "code",
   "execution_count": null,
   "id": "6fb45767",
   "metadata": {},
   "outputs": [],
   "source": []
  },
  {
   "cell_type": "code",
   "execution_count": 5,
   "id": "aae9567e",
   "metadata": {},
   "outputs": [
    {
     "data": {
      "text/plain": [
       "'The country with the most deals is United States.'"
      ]
     },
     "execution_count": 5,
     "metadata": {},
     "output_type": "execute_result"
    }
   ],
   "source": [
    "agent.chat('And which one has the most deals?')\n",
    "\n"
   ]
  },
  {
   "cell_type": "code",
   "execution_count": 6,
   "id": "0325757a",
   "metadata": {},
   "outputs": [
    {
     "name": "stdout",
     "output_type": "stream",
     "text": [
      "The answer is 21430000\n",
      "The explanation is Unfortunately, I was not able to explain, because of the following error:\n",
      "\n",
      "Implementation required\n",
      "\n"
     ]
    }
   ],
   "source": [
    "response = agent.chat('What is the GDP of the United States?')\n",
    "explanation = agent.explain()\n",
    "\n",
    "print(\"The answer is\", response)\n",
    "print(\"The explanation is\", explanation)\n"
   ]
  },
  {
   "cell_type": "code",
   "execution_count": 11,
   "id": "550d0767",
   "metadata": {},
   "outputs": [
    {
     "data": {
      "image/png": "[encoded data removed]",
      "text/plain": [
       "<Figure size 640x480 with 1 Axes>"
      ]
     },
     "metadata": {},
     "output_type": "display_data"
    },
    {
     "data": {
      "text/plain": [
       "'C:/Users/Nadeem/Desktop/DataScienceJourney/exports/charts/temp_chart.png'"
      ]
     },
     "execution_count": 11,
     "metadata": {},
     "output_type": "execute_result"
    }
   ],
   "source": [
    "agent.chat(\n",
    "    \"Plot the histogram of countries showing for each the gdp, using different colors for each bar\",\n",
    ")"
   ]
  },
  {
   "cell_type": "markdown",
   "id": "1893ea54",
   "metadata": {},
   "source": [
    "PandasAI also supports queries with multiple dataframes. To perform such queries, you can use a SmartDatalake instead of a SmartDataframe.\n",
    "\n",
    "Similarly to a SmartDataframe, you can instantiate a SmartDatalake as follows:"
   ]
  },
  {
   "cell_type": "code",
   "execution_count": 7,
   "id": "24622f56",
   "metadata": {},
   "outputs": [
    {
     "data": {
      "text/plain": [
       "'The employee who gets paid the most is Olivia with a salary of 7000.'"
      ]
     },
     "execution_count": 7,
     "metadata": {},
     "output_type": "execute_result"
    }
   ],
   "source": [
    "import os\n",
    "import pandas as pd\n",
    "from pandasai import SmartDatalake\n",
    "\n",
    "employees_data = {\n",
    "    'EmployeeID': [1, 2, 3, 4, 5],\n",
    "    'Name': ['John', 'Emma', 'Liam', 'Olivia', 'William'],\n",
    "    'Department': ['HR', 'Sales', 'IT', 'Marketing', 'Finance']\n",
    "}\n",
    "\n",
    "salaries_data = {\n",
    "    'EmployeeID': [1, 2, 3, 4, 5],\n",
    "    'Salary': [5000, 6000, 4500, 7000, 5500]\n",
    "}\n",
    "\n",
    "employees_df = pd.DataFrame(employees_data)\n",
    "salaries_df = pd.DataFrame(salaries_data)\n",
    "\n",
    "\n",
    "lake = SmartDatalake([employees_df, salaries_df])\n",
    "lake.chat(\"Who gets paid the most?\")\n",
    "# Output: Olivia gets paid the most\n"
   ]
  },
  {
   "cell_type": "code",
   "execution_count": null,
   "id": "380b59ac",
   "metadata": {},
   "outputs": [],
   "source": []
  },
  {
   "cell_type": "code",
   "execution_count": null,
   "id": "5d852b62",
   "metadata": {},
   "outputs": [],
   "source": []
  },
  {
   "cell_type": "code",
   "execution_count": 8,
   "id": "49270cd1",
   "metadata": {},
   "outputs": [
    {
     "name": "stdout",
     "output_type": "stream",
     "text": [
      "247\n"
     ]
    }
   ],
   "source": [
    "import os\n",
    "from pandasai import SmartDataframe\n",
    "\n",
    "# You can instantiate a SmartDataframe with a path to a CSV file\n",
    "sdf = SmartDataframe(\"Loan payments data.csv\")\n",
    "\n",
    "response = sdf.chat(\"How many loans are from men and have been paid off?\")\n",
    "print(response)\n",
    "# Output: 247 loans have been paid off by men."
   ]
  },
  {
   "cell_type": "code",
   "execution_count": 9,
   "id": "c4aa829f",
   "metadata": {},
   "outputs": [
    {
     "name": "stdout",
     "output_type": "stream",
     "text": [
      "400\n"
     ]
    }
   ],
   "source": [
    "response = sdf.chat(\"How many loans are from women and have been paid off?\")\n",
    "print(response)"
   ]
  },
  {
   "cell_type": "code",
   "execution_count": 10,
   "id": "95b5bdfd",
   "metadata": {},
   "outputs": [
    {
     "name": "stdout",
     "output_type": "stream",
     "text": [
      "C:/Users/Nadeem/Desktop/DataScienceJourney/exports/charts/temp_chart.png\n"
     ]
    },
    {
     "data": {
      "image/png": "[encoded data removed]",
      "text/plain": [
       "<Figure size 640x480 with 1 Axes>"
      ]
     },
     "metadata": {},
     "output_type": "display_data"
    }
   ],
   "source": [
    "response = sdf.chat(\"Draw a Pai chart How many loans have been paid off?\")\n",
    "print(response)"
   ]
  },
  {
   "cell_type": "code",
   "execution_count": null,
   "id": "0c138f5d",
   "metadata": {},
   "outputs": [],
   "source": []
  },
  {
   "cell_type": "code",
   "execution_count": null,
   "id": "a1d4b63f",
   "metadata": {},
   "outputs": [],
   "source": []
  }
 ],
 "metadata": {
  "kernelspec": {
   "display_name": "Python 3 (ipykernel)",
   "language": "python",
   "name": "python3"
  },
  "language_info": {
   "codemirror_mode": {
    "name": "ipython",
    "version": 3
   },
   "file_extension": ".py",
   "mimetype": "text/x-python",
   "name": "python",
   "nbconvert_exporter": "python",
   "pygments_lexer": "ipython3",
   "version": "3.11.5"
  }
 },
 "nbformat": 4,
 "nbformat_minor": 5
}
