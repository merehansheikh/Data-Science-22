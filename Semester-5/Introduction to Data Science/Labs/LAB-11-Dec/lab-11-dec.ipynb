{
 "cells": [
  {
   "cell_type": "code",
   "execution_count": 1,
   "id": "d54047e7",
   "metadata": {
    "_cell_guid": "b1076dfc-b9ad-4769-8c92-a6c4dae69d19",
    "_uuid": "8f2839f25d086af736a60e9eeb907d3b93b6e0e5",
    "execution": {
     "iopub.execute_input": "2024-12-11T16:35:13.785267Z",
     "iopub.status.busy": "2024-12-11T16:35:13.784737Z",
     "iopub.status.idle": "2024-12-11T16:35:14.744984Z",
     "shell.execute_reply": "2024-12-11T16:35:14.743810Z"
    },
    "papermill": {
     "duration": 0.970452,
     "end_time": "2024-12-11T16:35:14.747503",
     "exception": false,
     "start_time": "2024-12-11T16:35:13.777051",
     "status": "completed"
    },
    "tags": []
   },
   "outputs": [
    {
     "name": "stdout",
     "output_type": "stream",
     "text": [
      "/kaggle/input/iris-dataset/Iris.csv\n"
     ]
    }
   ],
   "source": [
    "# This Python 3 environment comes with many helpful analytics libraries installed\n",
    "# It is defined by the kaggle/python Docker image: https://github.com/kaggle/docker-python\n",
    "# For example, here's several helpful packages to load\n",
    "\n",
    "import numpy as np # linear algebra\n",
    "import pandas as pd # data processing, CSV file I/O (e.g. pd.read_csv)\n",
    "\n",
    "# Input data files are available in the read-only \"../input/\" directory\n",
    "# For example, running this (by clicking run or pressing Shift+Enter) will list all files under the input directory\n",
    "\n",
    "import os\n",
    "for dirname, _, filenames in os.walk('/kaggle/input'):\n",
    "    for filename in filenames:\n",
    "        print(os.path.join(dirname, filename))\n",
    "\n",
    "# You can write up to 20GB to the current directory (/kaggle/working/) that gets preserved as output when you create a version using \"Save & Run All\" \n",
    "# You can also write temporary files to /kaggle/temp/, but they won't be saved outside of the current session"
   ]
  },
  {
   "cell_type": "markdown",
   "id": "b439e2d0",
   "metadata": {
    "papermill": {
     "duration": 0.005201,
     "end_time": "2024-12-11T16:35:14.758455",
     "exception": false,
     "start_time": "2024-12-11T16:35:14.753254",
     "status": "completed"
    },
    "tags": []
   },
   "source": [
    "# Lab: Data Cleaning, Transformation, and Aggregation on the Iris Dataset"
   ]
  },
  {
   "cell_type": "markdown",
   "id": "4604a5ba",
   "metadata": {
    "papermill": {
     "duration": 0.004975,
     "end_time": "2024-12-11T16:35:14.768716",
     "exception": false,
     "start_time": "2024-12-11T16:35:14.763741",
     "status": "completed"
    },
    "tags": []
   },
   "source": [
    "## Scenario Overview:\n",
    "*You are analyzing the Iris dataset, which contains information on the physical characteristics of three species of iris flowers. Your goal is to clean the dataset, perform transformations, handle missing data, and apply aggregation techniques to summarize the data. Additionally, you'll reshape the data to prepare it for deeper analysis.*"
   ]
  },
  {
   "cell_type": "code",
   "execution_count": 2,
   "id": "f863dedf",
   "metadata": {
    "execution": {
     "iopub.execute_input": "2024-12-11T16:35:14.782368Z",
     "iopub.status.busy": "2024-12-11T16:35:14.781806Z",
     "iopub.status.idle": "2024-12-11T16:35:14.828084Z",
     "shell.execute_reply": "2024-12-11T16:35:14.826990Z"
    },
    "papermill": {
     "duration": 0.055047,
     "end_time": "2024-12-11T16:35:14.830317",
     "exception": false,
     "start_time": "2024-12-11T16:35:14.775270",
     "status": "completed"
    },
    "tags": []
   },
   "outputs": [
    {
     "data": {
      "text/html": [
       "<div>\n",
       "<style scoped>\n",
       "    .dataframe tbody tr th:only-of-type {\n",
       "        vertical-align: middle;\n",
       "    }\n",
       "\n",
       "    .dataframe tbody tr th {\n",
       "        vertical-align: top;\n",
       "    }\n",
       "\n",
       "    .dataframe thead th {\n",
       "        text-align: right;\n",
       "    }\n",
       "</style>\n",
       "<table border=\"1\" class=\"dataframe\">\n",
       "  <thead>\n",
       "    <tr style=\"text-align: right;\">\n",
       "      <th></th>\n",
       "      <th>Id</th>\n",
       "      <th>SepalLengthCm</th>\n",
       "      <th>SepalWidthCm</th>\n",
       "      <th>PetalLengthCm</th>\n",
       "      <th>PetalWidthCm</th>\n",
       "      <th>Species</th>\n",
       "    </tr>\n",
       "  </thead>\n",
       "  <tbody>\n",
       "    <tr>\n",
       "      <th>0</th>\n",
       "      <td>1</td>\n",
       "      <td>5.1</td>\n",
       "      <td>3.5</td>\n",
       "      <td>1.4</td>\n",
       "      <td>0.2</td>\n",
       "      <td>Iris-setosa</td>\n",
       "    </tr>\n",
       "    <tr>\n",
       "      <th>1</th>\n",
       "      <td>2</td>\n",
       "      <td>4.9</td>\n",
       "      <td>3.0</td>\n",
       "      <td>1.4</td>\n",
       "      <td>0.2</td>\n",
       "      <td>Iris-setosa</td>\n",
       "    </tr>\n",
       "    <tr>\n",
       "      <th>2</th>\n",
       "      <td>3</td>\n",
       "      <td>4.7</td>\n",
       "      <td>3.2</td>\n",
       "      <td>1.3</td>\n",
       "      <td>0.2</td>\n",
       "      <td>Iris-setosa</td>\n",
       "    </tr>\n",
       "    <tr>\n",
       "      <th>3</th>\n",
       "      <td>4</td>\n",
       "      <td>4.6</td>\n",
       "      <td>3.1</td>\n",
       "      <td>1.5</td>\n",
       "      <td>0.2</td>\n",
       "      <td>Iris-setosa</td>\n",
       "    </tr>\n",
       "    <tr>\n",
       "      <th>4</th>\n",
       "      <td>5</td>\n",
       "      <td>5.0</td>\n",
       "      <td>3.6</td>\n",
       "      <td>1.4</td>\n",
       "      <td>0.2</td>\n",
       "      <td>Iris-setosa</td>\n",
       "    </tr>\n",
       "  </tbody>\n",
       "</table>\n",
       "</div>"
      ],
      "text/plain": [
       "   Id  SepalLengthCm  SepalWidthCm  PetalLengthCm  PetalWidthCm      Species\n",
       "0   1            5.1           3.5            1.4           0.2  Iris-setosa\n",
       "1   2            4.9           3.0            1.4           0.2  Iris-setosa\n",
       "2   3            4.7           3.2            1.3           0.2  Iris-setosa\n",
       "3   4            4.6           3.1            1.5           0.2  Iris-setosa\n",
       "4   5            5.0           3.6            1.4           0.2  Iris-setosa"
      ]
     },
     "execution_count": 2,
     "metadata": {},
     "output_type": "execute_result"
    }
   ],
   "source": [
    "df = pd.read_csv('/kaggle/input/iris-dataset/Iris.csv')\n",
    "df.head()"
   ]
  },
  {
   "cell_type": "code",
   "execution_count": 3,
   "id": "8b6302d4",
   "metadata": {
    "execution": {
     "iopub.execute_input": "2024-12-11T16:35:14.843117Z",
     "iopub.status.busy": "2024-12-11T16:35:14.842688Z",
     "iopub.status.idle": "2024-12-11T16:35:14.850427Z",
     "shell.execute_reply": "2024-12-11T16:35:14.849117Z"
    },
    "papermill": {
     "duration": 0.016944,
     "end_time": "2024-12-11T16:35:14.852935",
     "exception": false,
     "start_time": "2024-12-11T16:35:14.835991",
     "status": "completed"
    },
    "tags": []
   },
   "outputs": [
    {
     "data": {
      "text/plain": [
       "Index(['Id', 'SepalLengthCm', 'SepalWidthCm', 'PetalLengthCm', 'PetalWidthCm',\n",
       "       'Species'],\n",
       "      dtype='object')"
      ]
     },
     "execution_count": 3,
     "metadata": {},
     "output_type": "execute_result"
    }
   ],
   "source": [
    "df.columns"
   ]
  },
  {
   "cell_type": "code",
   "execution_count": 4,
   "id": "db1d5486",
   "metadata": {
    "execution": {
     "iopub.execute_input": "2024-12-11T16:35:14.865955Z",
     "iopub.status.busy": "2024-12-11T16:35:14.865572Z",
     "iopub.status.idle": "2024-12-11T16:35:14.872208Z",
     "shell.execute_reply": "2024-12-11T16:35:14.871076Z"
    },
    "papermill": {
     "duration": 0.01577,
     "end_time": "2024-12-11T16:35:14.874409",
     "exception": false,
     "start_time": "2024-12-11T16:35:14.858639",
     "status": "completed"
    },
    "tags": []
   },
   "outputs": [
    {
     "data": {
      "text/plain": [
       "(150, 6)"
      ]
     },
     "execution_count": 4,
     "metadata": {},
     "output_type": "execute_result"
    }
   ],
   "source": [
    "df.shape"
   ]
  },
  {
   "cell_type": "code",
   "execution_count": 5,
   "id": "c04766dd",
   "metadata": {
    "execution": {
     "iopub.execute_input": "2024-12-11T16:35:14.887722Z",
     "iopub.status.busy": "2024-12-11T16:35:14.887311Z",
     "iopub.status.idle": "2024-12-11T16:35:14.917568Z",
     "shell.execute_reply": "2024-12-11T16:35:14.916349Z"
    },
    "papermill": {
     "duration": 0.0397,
     "end_time": "2024-12-11T16:35:14.919934",
     "exception": false,
     "start_time": "2024-12-11T16:35:14.880234",
     "status": "completed"
    },
    "tags": []
   },
   "outputs": [
    {
     "name": "stdout",
     "output_type": "stream",
     "text": [
      "<class 'pandas.core.frame.DataFrame'>\n",
      "RangeIndex: 150 entries, 0 to 149\n",
      "Data columns (total 6 columns):\n",
      " #   Column         Non-Null Count  Dtype  \n",
      "---  ------         --------------  -----  \n",
      " 0   Id             150 non-null    int64  \n",
      " 1   SepalLengthCm  150 non-null    float64\n",
      " 2   SepalWidthCm   150 non-null    float64\n",
      " 3   PetalLengthCm  150 non-null    float64\n",
      " 4   PetalWidthCm   150 non-null    float64\n",
      " 5   Species        150 non-null    object \n",
      "dtypes: float64(4), int64(1), object(1)\n",
      "memory usage: 7.2+ KB\n"
     ]
    }
   ],
   "source": [
    "df.info()"
   ]
  },
  {
   "cell_type": "markdown",
   "id": "d655a3ce",
   "metadata": {
    "papermill": {
     "duration": 0.00556,
     "end_time": "2024-12-11T16:35:14.931214",
     "exception": false,
     "start_time": "2024-12-11T16:35:14.925654",
     "status": "completed"
    },
    "tags": []
   },
   "source": [
    "# Tasks:"
   ]
  },
  {
   "cell_type": "markdown",
   "id": "b435fd09",
   "metadata": {
    "papermill": {
     "duration": 0.005479,
     "end_time": "2024-12-11T16:35:14.942951",
     "exception": false,
     "start_time": "2024-12-11T16:35:14.937472",
     "status": "completed"
    },
    "tags": []
   },
   "source": [
    "## Task 1: Identifying and Imputing Missing Data\n",
    "* **Locate Missing Data:** Examine the dataset to locate any missing values. Identify the columns with missing data and report how many missing values are present in each column."
   ]
  },
  {
   "cell_type": "code",
   "execution_count": 6,
   "id": "9227c470",
   "metadata": {
    "execution": {
     "iopub.execute_input": "2024-12-11T16:35:14.956595Z",
     "iopub.status.busy": "2024-12-11T16:35:14.956177Z",
     "iopub.status.idle": "2024-12-11T16:35:14.965955Z",
     "shell.execute_reply": "2024-12-11T16:35:14.964833Z"
    },
    "papermill": {
     "duration": 0.01963,
     "end_time": "2024-12-11T16:35:14.968411",
     "exception": false,
     "start_time": "2024-12-11T16:35:14.948781",
     "status": "completed"
    },
    "tags": []
   },
   "outputs": [
    {
     "data": {
      "text/plain": [
       "Id               0\n",
       "SepalLengthCm    0\n",
       "SepalWidthCm     0\n",
       "PetalLengthCm    0\n",
       "PetalWidthCm     0\n",
       "Species          0\n",
       "dtype: int64"
      ]
     },
     "execution_count": 6,
     "metadata": {},
     "output_type": "execute_result"
    }
   ],
   "source": [
    "df.isna().sum()"
   ]
  },
  {
   "cell_type": "markdown",
   "id": "517f5c01",
   "metadata": {
    "papermill": {
     "duration": 0.00555,
     "end_time": "2024-12-11T16:35:14.980001",
     "exception": false,
     "start_time": "2024-12-11T16:35:14.974451",
     "status": "completed"
    },
    "tags": []
   },
   "source": [
    "* **Handle Missing Data in Numerical Columns:** Fill in missing values for numeric columns (i.e., sepal_length, sepal_width, petal_length, petal_width) using the median value of each column. Justify why you chose this approach."
   ]
  },
  {
   "cell_type": "code",
   "execution_count": 7,
   "id": "26d43863",
   "metadata": {
    "execution": {
     "iopub.execute_input": "2024-12-11T16:35:14.993227Z",
     "iopub.status.busy": "2024-12-11T16:35:14.992812Z",
     "iopub.status.idle": "2024-12-11T16:35:15.008007Z",
     "shell.execute_reply": "2024-12-11T16:35:15.006779Z"
    },
    "papermill": {
     "duration": 0.024799,
     "end_time": "2024-12-11T16:35:15.010526",
     "exception": false,
     "start_time": "2024-12-11T16:35:14.985727",
     "status": "completed"
    },
    "tags": []
   },
   "outputs": [],
   "source": [
    "if not df.isna().sum().empty:\n",
    "    numeric_cols = df.select_dtypes(include=np.number).columns\n",
    "    for col in numeric_cols:\n",
    "        df[col] = df[col].transform(lambda x: x.fillna(x.median()))"
   ]
  },
  {
   "cell_type": "markdown",
   "id": "b3a3e8a2",
   "metadata": {
    "papermill": {
     "duration": 0.005538,
     "end_time": "2024-12-11T16:35:15.021955",
     "exception": false,
     "start_time": "2024-12-11T16:35:15.016417",
     "status": "completed"
    },
    "tags": []
   },
   "source": [
    "* **Handle Missing Data in Categorical Columns:** Identify if there are missing values in the species column. If so, impute them with the most frequent value (mode) in the column."
   ]
  },
  {
   "cell_type": "code",
   "execution_count": 8,
   "id": "8f1df561",
   "metadata": {
    "execution": {
     "iopub.execute_input": "2024-12-11T16:35:15.035528Z",
     "iopub.status.busy": "2024-12-11T16:35:15.035178Z",
     "iopub.status.idle": "2024-12-11T16:35:15.042703Z",
     "shell.execute_reply": "2024-12-11T16:35:15.041584Z"
    },
    "papermill": {
     "duration": 0.017092,
     "end_time": "2024-12-11T16:35:15.044999",
     "exception": false,
     "start_time": "2024-12-11T16:35:15.027907",
     "status": "completed"
    },
    "tags": []
   },
   "outputs": [],
   "source": [
    "if not df.isna().sum().empty:\n",
    "    df.fillna({'Species': df['Species'].mode().iloc[0]}, inplace = True)"
   ]
  },
  {
   "cell_type": "markdown",
   "id": "1a609607",
   "metadata": {
    "papermill": {
     "duration": 0.006165,
     "end_time": "2024-12-11T16:35:15.057278",
     "exception": false,
     "start_time": "2024-12-11T16:35:15.051113",
     "status": "completed"
    },
    "tags": []
   },
   "source": [
    "## Task 2: Data Integrity and Transformation\n",
    "* **Remove Duplicate Records:** Review the dataset for duplicate rows (where all values in a row are identical) and remove any duplicates found. Ensure that only one unique record per flower remains in the dataset."
   ]
  },
  {
   "cell_type": "code",
   "execution_count": 9,
   "id": "82d03ed0",
   "metadata": {
    "execution": {
     "iopub.execute_input": "2024-12-11T16:35:15.070830Z",
     "iopub.status.busy": "2024-12-11T16:35:15.070377Z",
     "iopub.status.idle": "2024-12-11T16:35:15.095156Z",
     "shell.execute_reply": "2024-12-11T16:35:15.093961Z"
    },
    "papermill": {
     "duration": 0.034357,
     "end_time": "2024-12-11T16:35:15.097489",
     "exception": false,
     "start_time": "2024-12-11T16:35:15.063132",
     "status": "completed"
    },
    "tags": []
   },
   "outputs": [
    {
     "data": {
      "text/html": [
       "<div>\n",
       "<style scoped>\n",
       "    .dataframe tbody tr th:only-of-type {\n",
       "        vertical-align: middle;\n",
       "    }\n",
       "\n",
       "    .dataframe tbody tr th {\n",
       "        vertical-align: top;\n",
       "    }\n",
       "\n",
       "    .dataframe thead th {\n",
       "        text-align: right;\n",
       "    }\n",
       "</style>\n",
       "<table border=\"1\" class=\"dataframe\">\n",
       "  <thead>\n",
       "    <tr style=\"text-align: right;\">\n",
       "      <th></th>\n",
       "      <th>Id</th>\n",
       "      <th>SepalLengthCm</th>\n",
       "      <th>SepalWidthCm</th>\n",
       "      <th>PetalLengthCm</th>\n",
       "      <th>PetalWidthCm</th>\n",
       "      <th>Species</th>\n",
       "    </tr>\n",
       "  </thead>\n",
       "  <tbody>\n",
       "    <tr>\n",
       "      <th>0</th>\n",
       "      <td>1</td>\n",
       "      <td>5.1</td>\n",
       "      <td>3.5</td>\n",
       "      <td>1.4</td>\n",
       "      <td>0.2</td>\n",
       "      <td>Iris-setosa</td>\n",
       "    </tr>\n",
       "    <tr>\n",
       "      <th>1</th>\n",
       "      <td>2</td>\n",
       "      <td>4.9</td>\n",
       "      <td>3.0</td>\n",
       "      <td>1.4</td>\n",
       "      <td>0.2</td>\n",
       "      <td>Iris-setosa</td>\n",
       "    </tr>\n",
       "    <tr>\n",
       "      <th>2</th>\n",
       "      <td>3</td>\n",
       "      <td>4.7</td>\n",
       "      <td>3.2</td>\n",
       "      <td>1.3</td>\n",
       "      <td>0.2</td>\n",
       "      <td>Iris-setosa</td>\n",
       "    </tr>\n",
       "    <tr>\n",
       "      <th>3</th>\n",
       "      <td>4</td>\n",
       "      <td>4.6</td>\n",
       "      <td>3.1</td>\n",
       "      <td>1.5</td>\n",
       "      <td>0.2</td>\n",
       "      <td>Iris-setosa</td>\n",
       "    </tr>\n",
       "    <tr>\n",
       "      <th>4</th>\n",
       "      <td>5</td>\n",
       "      <td>5.0</td>\n",
       "      <td>3.6</td>\n",
       "      <td>1.4</td>\n",
       "      <td>0.2</td>\n",
       "      <td>Iris-setosa</td>\n",
       "    </tr>\n",
       "    <tr>\n",
       "      <th>...</th>\n",
       "      <td>...</td>\n",
       "      <td>...</td>\n",
       "      <td>...</td>\n",
       "      <td>...</td>\n",
       "      <td>...</td>\n",
       "      <td>...</td>\n",
       "    </tr>\n",
       "    <tr>\n",
       "      <th>145</th>\n",
       "      <td>146</td>\n",
       "      <td>6.7</td>\n",
       "      <td>3.0</td>\n",
       "      <td>5.2</td>\n",
       "      <td>2.3</td>\n",
       "      <td>Iris-virginica</td>\n",
       "    </tr>\n",
       "    <tr>\n",
       "      <th>146</th>\n",
       "      <td>147</td>\n",
       "      <td>6.3</td>\n",
       "      <td>2.5</td>\n",
       "      <td>5.0</td>\n",
       "      <td>1.9</td>\n",
       "      <td>Iris-virginica</td>\n",
       "    </tr>\n",
       "    <tr>\n",
       "      <th>147</th>\n",
       "      <td>148</td>\n",
       "      <td>6.5</td>\n",
       "      <td>3.0</td>\n",
       "      <td>5.2</td>\n",
       "      <td>2.0</td>\n",
       "      <td>Iris-virginica</td>\n",
       "    </tr>\n",
       "    <tr>\n",
       "      <th>148</th>\n",
       "      <td>149</td>\n",
       "      <td>6.2</td>\n",
       "      <td>3.4</td>\n",
       "      <td>5.4</td>\n",
       "      <td>2.3</td>\n",
       "      <td>Iris-virginica</td>\n",
       "    </tr>\n",
       "    <tr>\n",
       "      <th>149</th>\n",
       "      <td>150</td>\n",
       "      <td>5.9</td>\n",
       "      <td>3.0</td>\n",
       "      <td>5.1</td>\n",
       "      <td>1.8</td>\n",
       "      <td>Iris-virginica</td>\n",
       "    </tr>\n",
       "  </tbody>\n",
       "</table>\n",
       "<p>150 rows × 6 columns</p>\n",
       "</div>"
      ],
      "text/plain": [
       "      Id  SepalLengthCm  SepalWidthCm  PetalLengthCm  PetalWidthCm  \\\n",
       "0      1            5.1           3.5            1.4           0.2   \n",
       "1      2            4.9           3.0            1.4           0.2   \n",
       "2      3            4.7           3.2            1.3           0.2   \n",
       "3      4            4.6           3.1            1.5           0.2   \n",
       "4      5            5.0           3.6            1.4           0.2   \n",
       "..   ...            ...           ...            ...           ...   \n",
       "145  146            6.7           3.0            5.2           2.3   \n",
       "146  147            6.3           2.5            5.0           1.9   \n",
       "147  148            6.5           3.0            5.2           2.0   \n",
       "148  149            6.2           3.4            5.4           2.3   \n",
       "149  150            5.9           3.0            5.1           1.8   \n",
       "\n",
       "            Species  \n",
       "0       Iris-setosa  \n",
       "1       Iris-setosa  \n",
       "2       Iris-setosa  \n",
       "3       Iris-setosa  \n",
       "4       Iris-setosa  \n",
       "..              ...  \n",
       "145  Iris-virginica  \n",
       "146  Iris-virginica  \n",
       "147  Iris-virginica  \n",
       "148  Iris-virginica  \n",
       "149  Iris-virginica  \n",
       "\n",
       "[150 rows x 6 columns]"
      ]
     },
     "execution_count": 9,
     "metadata": {},
     "output_type": "execute_result"
    }
   ],
   "source": [
    "df.drop_duplicates()"
   ]
  },
  {
   "cell_type": "markdown",
   "id": "40420014",
   "metadata": {
    "papermill": {
     "duration": 0.006036,
     "end_time": "2024-12-11T16:35:15.110080",
     "exception": false,
     "start_time": "2024-12-11T16:35:15.104044",
     "status": "completed"
    },
    "tags": []
   },
   "source": [
    "* **Feature Engineering:** Create a new feature called total_area by adding the areas of both the sepal and petal. To do this, create separate columns for the sepal area and petal area and then add them to form the total_area column."
   ]
  },
  {
   "cell_type": "code",
   "execution_count": 10,
   "id": "aa300285",
   "metadata": {
    "execution": {
     "iopub.execute_input": "2024-12-11T16:35:15.124146Z",
     "iopub.status.busy": "2024-12-11T16:35:15.123694Z",
     "iopub.status.idle": "2024-12-11T16:35:15.145342Z",
     "shell.execute_reply": "2024-12-11T16:35:15.144129Z"
    },
    "papermill": {
     "duration": 0.031553,
     "end_time": "2024-12-11T16:35:15.147675",
     "exception": false,
     "start_time": "2024-12-11T16:35:15.116122",
     "status": "completed"
    },
    "tags": []
   },
   "outputs": [
    {
     "data": {
      "text/html": [
       "<div>\n",
       "<style scoped>\n",
       "    .dataframe tbody tr th:only-of-type {\n",
       "        vertical-align: middle;\n",
       "    }\n",
       "\n",
       "    .dataframe tbody tr th {\n",
       "        vertical-align: top;\n",
       "    }\n",
       "\n",
       "    .dataframe thead th {\n",
       "        text-align: right;\n",
       "    }\n",
       "</style>\n",
       "<table border=\"1\" class=\"dataframe\">\n",
       "  <thead>\n",
       "    <tr style=\"text-align: right;\">\n",
       "      <th></th>\n",
       "      <th>Id</th>\n",
       "      <th>SepalLengthCm</th>\n",
       "      <th>SepalWidthCm</th>\n",
       "      <th>PetalLengthCm</th>\n",
       "      <th>PetalWidthCm</th>\n",
       "      <th>Species</th>\n",
       "      <th>sepal_area</th>\n",
       "      <th>petal_area</th>\n",
       "      <th>total_area</th>\n",
       "    </tr>\n",
       "  </thead>\n",
       "  <tbody>\n",
       "    <tr>\n",
       "      <th>0</th>\n",
       "      <td>1</td>\n",
       "      <td>5.1</td>\n",
       "      <td>3.5</td>\n",
       "      <td>1.4</td>\n",
       "      <td>0.2</td>\n",
       "      <td>Iris-setosa</td>\n",
       "      <td>17.85</td>\n",
       "      <td>0.28</td>\n",
       "      <td>18.13</td>\n",
       "    </tr>\n",
       "    <tr>\n",
       "      <th>1</th>\n",
       "      <td>2</td>\n",
       "      <td>4.9</td>\n",
       "      <td>3.0</td>\n",
       "      <td>1.4</td>\n",
       "      <td>0.2</td>\n",
       "      <td>Iris-setosa</td>\n",
       "      <td>14.70</td>\n",
       "      <td>0.28</td>\n",
       "      <td>14.98</td>\n",
       "    </tr>\n",
       "    <tr>\n",
       "      <th>2</th>\n",
       "      <td>3</td>\n",
       "      <td>4.7</td>\n",
       "      <td>3.2</td>\n",
       "      <td>1.3</td>\n",
       "      <td>0.2</td>\n",
       "      <td>Iris-setosa</td>\n",
       "      <td>15.04</td>\n",
       "      <td>0.26</td>\n",
       "      <td>15.30</td>\n",
       "    </tr>\n",
       "    <tr>\n",
       "      <th>3</th>\n",
       "      <td>4</td>\n",
       "      <td>4.6</td>\n",
       "      <td>3.1</td>\n",
       "      <td>1.5</td>\n",
       "      <td>0.2</td>\n",
       "      <td>Iris-setosa</td>\n",
       "      <td>14.26</td>\n",
       "      <td>0.30</td>\n",
       "      <td>14.56</td>\n",
       "    </tr>\n",
       "    <tr>\n",
       "      <th>4</th>\n",
       "      <td>5</td>\n",
       "      <td>5.0</td>\n",
       "      <td>3.6</td>\n",
       "      <td>1.4</td>\n",
       "      <td>0.2</td>\n",
       "      <td>Iris-setosa</td>\n",
       "      <td>18.00</td>\n",
       "      <td>0.28</td>\n",
       "      <td>18.28</td>\n",
       "    </tr>\n",
       "  </tbody>\n",
       "</table>\n",
       "</div>"
      ],
      "text/plain": [
       "   Id  SepalLengthCm  SepalWidthCm  PetalLengthCm  PetalWidthCm      Species  \\\n",
       "0   1            5.1           3.5            1.4           0.2  Iris-setosa   \n",
       "1   2            4.9           3.0            1.4           0.2  Iris-setosa   \n",
       "2   3            4.7           3.2            1.3           0.2  Iris-setosa   \n",
       "3   4            4.6           3.1            1.5           0.2  Iris-setosa   \n",
       "4   5            5.0           3.6            1.4           0.2  Iris-setosa   \n",
       "\n",
       "   sepal_area  petal_area  total_area  \n",
       "0       17.85        0.28       18.13  \n",
       "1       14.70        0.28       14.98  \n",
       "2       15.04        0.26       15.30  \n",
       "3       14.26        0.30       14.56  \n",
       "4       18.00        0.28       18.28  "
      ]
     },
     "execution_count": 10,
     "metadata": {},
     "output_type": "execute_result"
    }
   ],
   "source": [
    "df['sepal_area'] = df['SepalLengthCm'] * df['SepalWidthCm']\n",
    "df['petal_area'] = df['PetalLengthCm'] * df['PetalWidthCm']\n",
    "df['total_area'] = df['sepal_area'] + df['petal_area']\n",
    "df.head()"
   ]
  },
  {
   "cell_type": "markdown",
   "id": "391c43e5",
   "metadata": {
    "papermill": {
     "duration": 0.006006,
     "end_time": "2024-12-11T16:35:15.160235",
     "exception": false,
     "start_time": "2024-12-11T16:35:15.154229",
     "status": "completed"
    },
    "tags": []
   },
   "source": [
    "* **Handling Missing Values Again:** After imputing missing data, inspect the dataset again and drop any rows that still have missing values in any of the columns."
   ]
  },
  {
   "cell_type": "code",
   "execution_count": 11,
   "id": "096d0838",
   "metadata": {
    "execution": {
     "iopub.execute_input": "2024-12-11T16:35:15.174688Z",
     "iopub.status.busy": "2024-12-11T16:35:15.174273Z",
     "iopub.status.idle": "2024-12-11T16:35:15.182930Z",
     "shell.execute_reply": "2024-12-11T16:35:15.181696Z"
    },
    "papermill": {
     "duration": 0.018675,
     "end_time": "2024-12-11T16:35:15.185185",
     "exception": false,
     "start_time": "2024-12-11T16:35:15.166510",
     "status": "completed"
    },
    "tags": []
   },
   "outputs": [
    {
     "data": {
      "text/plain": [
       "Id               0\n",
       "SepalLengthCm    0\n",
       "SepalWidthCm     0\n",
       "PetalLengthCm    0\n",
       "PetalWidthCm     0\n",
       "Species          0\n",
       "sepal_area       0\n",
       "petal_area       0\n",
       "total_area       0\n",
       "dtype: int64"
      ]
     },
     "execution_count": 11,
     "metadata": {},
     "output_type": "execute_result"
    }
   ],
   "source": [
    "df.isna().sum()"
   ]
  },
  {
   "cell_type": "code",
   "execution_count": 12,
   "id": "3dc5bea5",
   "metadata": {
    "execution": {
     "iopub.execute_input": "2024-12-11T16:35:15.199469Z",
     "iopub.status.busy": "2024-12-11T16:35:15.199056Z",
     "iopub.status.idle": "2024-12-11T16:35:15.220001Z",
     "shell.execute_reply": "2024-12-11T16:35:15.218843Z"
    },
    "papermill": {
     "duration": 0.030967,
     "end_time": "2024-12-11T16:35:15.222315",
     "exception": false,
     "start_time": "2024-12-11T16:35:15.191348",
     "status": "completed"
    },
    "tags": []
   },
   "outputs": [
    {
     "data": {
      "text/html": [
       "<div>\n",
       "<style scoped>\n",
       "    .dataframe tbody tr th:only-of-type {\n",
       "        vertical-align: middle;\n",
       "    }\n",
       "\n",
       "    .dataframe tbody tr th {\n",
       "        vertical-align: top;\n",
       "    }\n",
       "\n",
       "    .dataframe thead th {\n",
       "        text-align: right;\n",
       "    }\n",
       "</style>\n",
       "<table border=\"1\" class=\"dataframe\">\n",
       "  <thead>\n",
       "    <tr style=\"text-align: right;\">\n",
       "      <th></th>\n",
       "      <th>Id</th>\n",
       "      <th>SepalLengthCm</th>\n",
       "      <th>SepalWidthCm</th>\n",
       "      <th>PetalLengthCm</th>\n",
       "      <th>PetalWidthCm</th>\n",
       "      <th>Species</th>\n",
       "      <th>sepal_area</th>\n",
       "      <th>petal_area</th>\n",
       "      <th>total_area</th>\n",
       "    </tr>\n",
       "  </thead>\n",
       "  <tbody>\n",
       "    <tr>\n",
       "      <th>0</th>\n",
       "      <td>1</td>\n",
       "      <td>5.1</td>\n",
       "      <td>3.5</td>\n",
       "      <td>1.4</td>\n",
       "      <td>0.2</td>\n",
       "      <td>Iris-setosa</td>\n",
       "      <td>17.85</td>\n",
       "      <td>0.28</td>\n",
       "      <td>18.13</td>\n",
       "    </tr>\n",
       "    <tr>\n",
       "      <th>1</th>\n",
       "      <td>2</td>\n",
       "      <td>4.9</td>\n",
       "      <td>3.0</td>\n",
       "      <td>1.4</td>\n",
       "      <td>0.2</td>\n",
       "      <td>Iris-setosa</td>\n",
       "      <td>14.70</td>\n",
       "      <td>0.28</td>\n",
       "      <td>14.98</td>\n",
       "    </tr>\n",
       "    <tr>\n",
       "      <th>2</th>\n",
       "      <td>3</td>\n",
       "      <td>4.7</td>\n",
       "      <td>3.2</td>\n",
       "      <td>1.3</td>\n",
       "      <td>0.2</td>\n",
       "      <td>Iris-setosa</td>\n",
       "      <td>15.04</td>\n",
       "      <td>0.26</td>\n",
       "      <td>15.30</td>\n",
       "    </tr>\n",
       "    <tr>\n",
       "      <th>3</th>\n",
       "      <td>4</td>\n",
       "      <td>4.6</td>\n",
       "      <td>3.1</td>\n",
       "      <td>1.5</td>\n",
       "      <td>0.2</td>\n",
       "      <td>Iris-setosa</td>\n",
       "      <td>14.26</td>\n",
       "      <td>0.30</td>\n",
       "      <td>14.56</td>\n",
       "    </tr>\n",
       "    <tr>\n",
       "      <th>4</th>\n",
       "      <td>5</td>\n",
       "      <td>5.0</td>\n",
       "      <td>3.6</td>\n",
       "      <td>1.4</td>\n",
       "      <td>0.2</td>\n",
       "      <td>Iris-setosa</td>\n",
       "      <td>18.00</td>\n",
       "      <td>0.28</td>\n",
       "      <td>18.28</td>\n",
       "    </tr>\n",
       "    <tr>\n",
       "      <th>...</th>\n",
       "      <td>...</td>\n",
       "      <td>...</td>\n",
       "      <td>...</td>\n",
       "      <td>...</td>\n",
       "      <td>...</td>\n",
       "      <td>...</td>\n",
       "      <td>...</td>\n",
       "      <td>...</td>\n",
       "      <td>...</td>\n",
       "    </tr>\n",
       "    <tr>\n",
       "      <th>145</th>\n",
       "      <td>146</td>\n",
       "      <td>6.7</td>\n",
       "      <td>3.0</td>\n",
       "      <td>5.2</td>\n",
       "      <td>2.3</td>\n",
       "      <td>Iris-virginica</td>\n",
       "      <td>20.10</td>\n",
       "      <td>11.96</td>\n",
       "      <td>32.06</td>\n",
       "    </tr>\n",
       "    <tr>\n",
       "      <th>146</th>\n",
       "      <td>147</td>\n",
       "      <td>6.3</td>\n",
       "      <td>2.5</td>\n",
       "      <td>5.0</td>\n",
       "      <td>1.9</td>\n",
       "      <td>Iris-virginica</td>\n",
       "      <td>15.75</td>\n",
       "      <td>9.50</td>\n",
       "      <td>25.25</td>\n",
       "    </tr>\n",
       "    <tr>\n",
       "      <th>147</th>\n",
       "      <td>148</td>\n",
       "      <td>6.5</td>\n",
       "      <td>3.0</td>\n",
       "      <td>5.2</td>\n",
       "      <td>2.0</td>\n",
       "      <td>Iris-virginica</td>\n",
       "      <td>19.50</td>\n",
       "      <td>10.40</td>\n",
       "      <td>29.90</td>\n",
       "    </tr>\n",
       "    <tr>\n",
       "      <th>148</th>\n",
       "      <td>149</td>\n",
       "      <td>6.2</td>\n",
       "      <td>3.4</td>\n",
       "      <td>5.4</td>\n",
       "      <td>2.3</td>\n",
       "      <td>Iris-virginica</td>\n",
       "      <td>21.08</td>\n",
       "      <td>12.42</td>\n",
       "      <td>33.50</td>\n",
       "    </tr>\n",
       "    <tr>\n",
       "      <th>149</th>\n",
       "      <td>150</td>\n",
       "      <td>5.9</td>\n",
       "      <td>3.0</td>\n",
       "      <td>5.1</td>\n",
       "      <td>1.8</td>\n",
       "      <td>Iris-virginica</td>\n",
       "      <td>17.70</td>\n",
       "      <td>9.18</td>\n",
       "      <td>26.88</td>\n",
       "    </tr>\n",
       "  </tbody>\n",
       "</table>\n",
       "<p>150 rows × 9 columns</p>\n",
       "</div>"
      ],
      "text/plain": [
       "      Id  SepalLengthCm  SepalWidthCm  PetalLengthCm  PetalWidthCm  \\\n",
       "0      1            5.1           3.5            1.4           0.2   \n",
       "1      2            4.9           3.0            1.4           0.2   \n",
       "2      3            4.7           3.2            1.3           0.2   \n",
       "3      4            4.6           3.1            1.5           0.2   \n",
       "4      5            5.0           3.6            1.4           0.2   \n",
       "..   ...            ...           ...            ...           ...   \n",
       "145  146            6.7           3.0            5.2           2.3   \n",
       "146  147            6.3           2.5            5.0           1.9   \n",
       "147  148            6.5           3.0            5.2           2.0   \n",
       "148  149            6.2           3.4            5.4           2.3   \n",
       "149  150            5.9           3.0            5.1           1.8   \n",
       "\n",
       "            Species  sepal_area  petal_area  total_area  \n",
       "0       Iris-setosa       17.85        0.28       18.13  \n",
       "1       Iris-setosa       14.70        0.28       14.98  \n",
       "2       Iris-setosa       15.04        0.26       15.30  \n",
       "3       Iris-setosa       14.26        0.30       14.56  \n",
       "4       Iris-setosa       18.00        0.28       18.28  \n",
       "..              ...         ...         ...         ...  \n",
       "145  Iris-virginica       20.10       11.96       32.06  \n",
       "146  Iris-virginica       15.75        9.50       25.25  \n",
       "147  Iris-virginica       19.50       10.40       29.90  \n",
       "148  Iris-virginica       21.08       12.42       33.50  \n",
       "149  Iris-virginica       17.70        9.18       26.88  \n",
       "\n",
       "[150 rows x 9 columns]"
      ]
     },
     "execution_count": 12,
     "metadata": {},
     "output_type": "execute_result"
    }
   ],
   "source": [
    "df.dropna()"
   ]
  },
  {
   "cell_type": "markdown",
   "id": "94fc3f8d",
   "metadata": {
    "papermill": {
     "duration": 0.006299,
     "end_time": "2024-12-11T16:35:15.235451",
     "exception": false,
     "start_time": "2024-12-11T16:35:15.229152",
     "status": "completed"
    },
    "tags": []
   },
   "source": [
    "## Task 3: Aggregation and Data Transformation\n",
    "* **Numerical Conversion of Categorical Data:** Convert the species column, which is categorical, into a numerical format by assigning each species a unique number (e.g., 0, 1, 2)."
   ]
  },
  {
   "cell_type": "code",
   "execution_count": 13,
   "id": "d784228f",
   "metadata": {
    "execution": {
     "iopub.execute_input": "2024-12-11T16:35:15.250388Z",
     "iopub.status.busy": "2024-12-11T16:35:15.249986Z",
     "iopub.status.idle": "2024-12-11T16:35:15.257281Z",
     "shell.execute_reply": "2024-12-11T16:35:15.256035Z"
    },
    "papermill": {
     "duration": 0.017308,
     "end_time": "2024-12-11T16:35:15.259384",
     "exception": false,
     "start_time": "2024-12-11T16:35:15.242076",
     "status": "completed"
    },
    "tags": []
   },
   "outputs": [
    {
     "data": {
      "text/plain": [
       "array(['Iris-setosa', 'Iris-versicolor', 'Iris-virginica'], dtype=object)"
      ]
     },
     "execution_count": 13,
     "metadata": {},
     "output_type": "execute_result"
    }
   ],
   "source": [
    "df['Species'].unique()"
   ]
  },
  {
   "cell_type": "code",
   "execution_count": 14,
   "id": "b64e3a3a",
   "metadata": {
    "execution": {
     "iopub.execute_input": "2024-12-11T16:35:15.274617Z",
     "iopub.status.busy": "2024-12-11T16:35:15.274213Z",
     "iopub.status.idle": "2024-12-11T16:35:15.289722Z",
     "shell.execute_reply": "2024-12-11T16:35:15.288600Z"
    },
    "papermill": {
     "duration": 0.025965,
     "end_time": "2024-12-11T16:35:15.292075",
     "exception": false,
     "start_time": "2024-12-11T16:35:15.266110",
     "status": "completed"
    },
    "tags": []
   },
   "outputs": [
    {
     "data": {
      "text/html": [
       "<div>\n",
       "<style scoped>\n",
       "    .dataframe tbody tr th:only-of-type {\n",
       "        vertical-align: middle;\n",
       "    }\n",
       "\n",
       "    .dataframe tbody tr th {\n",
       "        vertical-align: top;\n",
       "    }\n",
       "\n",
       "    .dataframe thead th {\n",
       "        text-align: right;\n",
       "    }\n",
       "</style>\n",
       "<table border=\"1\" class=\"dataframe\">\n",
       "  <thead>\n",
       "    <tr style=\"text-align: right;\">\n",
       "      <th></th>\n",
       "      <th>Species</th>\n",
       "      <th>Species_Numerical</th>\n",
       "    </tr>\n",
       "  </thead>\n",
       "  <tbody>\n",
       "    <tr>\n",
       "      <th>0</th>\n",
       "      <td>Iris-setosa</td>\n",
       "      <td>0</td>\n",
       "    </tr>\n",
       "    <tr>\n",
       "      <th>1</th>\n",
       "      <td>Iris-setosa</td>\n",
       "      <td>0</td>\n",
       "    </tr>\n",
       "    <tr>\n",
       "      <th>2</th>\n",
       "      <td>Iris-setosa</td>\n",
       "      <td>0</td>\n",
       "    </tr>\n",
       "    <tr>\n",
       "      <th>3</th>\n",
       "      <td>Iris-setosa</td>\n",
       "      <td>0</td>\n",
       "    </tr>\n",
       "    <tr>\n",
       "      <th>4</th>\n",
       "      <td>Iris-setosa</td>\n",
       "      <td>0</td>\n",
       "    </tr>\n",
       "    <tr>\n",
       "      <th>...</th>\n",
       "      <td>...</td>\n",
       "      <td>...</td>\n",
       "    </tr>\n",
       "    <tr>\n",
       "      <th>145</th>\n",
       "      <td>Iris-virginica</td>\n",
       "      <td>2</td>\n",
       "    </tr>\n",
       "    <tr>\n",
       "      <th>146</th>\n",
       "      <td>Iris-virginica</td>\n",
       "      <td>2</td>\n",
       "    </tr>\n",
       "    <tr>\n",
       "      <th>147</th>\n",
       "      <td>Iris-virginica</td>\n",
       "      <td>2</td>\n",
       "    </tr>\n",
       "    <tr>\n",
       "      <th>148</th>\n",
       "      <td>Iris-virginica</td>\n",
       "      <td>2</td>\n",
       "    </tr>\n",
       "    <tr>\n",
       "      <th>149</th>\n",
       "      <td>Iris-virginica</td>\n",
       "      <td>2</td>\n",
       "    </tr>\n",
       "  </tbody>\n",
       "</table>\n",
       "<p>150 rows × 2 columns</p>\n",
       "</div>"
      ],
      "text/plain": [
       "            Species  Species_Numerical\n",
       "0       Iris-setosa                  0\n",
       "1       Iris-setosa                  0\n",
       "2       Iris-setosa                  0\n",
       "3       Iris-setosa                  0\n",
       "4       Iris-setosa                  0\n",
       "..              ...                ...\n",
       "145  Iris-virginica                  2\n",
       "146  Iris-virginica                  2\n",
       "147  Iris-virginica                  2\n",
       "148  Iris-virginica                  2\n",
       "149  Iris-virginica                  2\n",
       "\n",
       "[150 rows x 2 columns]"
      ]
     },
     "execution_count": 14,
     "metadata": {},
     "output_type": "execute_result"
    }
   ],
   "source": [
    "unique_species = df['Species'].unique()\n",
    "species_mapping = {species: index for index, species in enumerate(unique_species)}\n",
    "\n",
    "df['Species_Numerical'] = df['Species'].map(species_mapping)\n",
    "df[['Species','Species_Numerical']]"
   ]
  },
  {
   "cell_type": "markdown",
   "id": "bb0ae039",
   "metadata": {
    "papermill": {
     "duration": 0.006677,
     "end_time": "2024-12-11T16:35:15.306270",
     "exception": false,
     "start_time": "2024-12-11T16:35:15.299593",
     "status": "completed"
    },
    "tags": []
   },
   "source": [
    "* **Apply Grouped Aggregation:** Using the transformed data, group the flowers by species and calculate the total sum of the numeric columns (sepal_length, sepal_width, petal_length, petal_width). Present the results in a table that shows the sum of each feature per species."
   ]
  },
  {
   "cell_type": "code",
   "execution_count": 15,
   "id": "7e035e34",
   "metadata": {
    "execution": {
     "iopub.execute_input": "2024-12-11T16:35:15.322318Z",
     "iopub.status.busy": "2024-12-11T16:35:15.321933Z",
     "iopub.status.idle": "2024-12-11T16:35:15.343051Z",
     "shell.execute_reply": "2024-12-11T16:35:15.341529Z"
    },
    "papermill": {
     "duration": 0.031888,
     "end_time": "2024-12-11T16:35:15.345546",
     "exception": false,
     "start_time": "2024-12-11T16:35:15.313658",
     "status": "completed"
    },
    "tags": []
   },
   "outputs": [
    {
     "data": {
      "text/html": [
       "<div>\n",
       "<style scoped>\n",
       "    .dataframe tbody tr th:only-of-type {\n",
       "        vertical-align: middle;\n",
       "    }\n",
       "\n",
       "    .dataframe tbody tr th {\n",
       "        vertical-align: top;\n",
       "    }\n",
       "\n",
       "    .dataframe thead th {\n",
       "        text-align: right;\n",
       "    }\n",
       "</style>\n",
       "<table border=\"1\" class=\"dataframe\">\n",
       "  <thead>\n",
       "    <tr style=\"text-align: right;\">\n",
       "      <th></th>\n",
       "      <th>SepalLengthCm</th>\n",
       "      <th>SepalWidthCm</th>\n",
       "      <th>PetalLengthCm</th>\n",
       "      <th>PetalWidthCm</th>\n",
       "    </tr>\n",
       "    <tr>\n",
       "      <th>Species</th>\n",
       "      <th></th>\n",
       "      <th></th>\n",
       "      <th></th>\n",
       "      <th></th>\n",
       "    </tr>\n",
       "  </thead>\n",
       "  <tbody>\n",
       "    <tr>\n",
       "      <th>Iris-setosa</th>\n",
       "      <td>250.3</td>\n",
       "      <td>170.9</td>\n",
       "      <td>73.2</td>\n",
       "      <td>12.2</td>\n",
       "    </tr>\n",
       "    <tr>\n",
       "      <th>Iris-versicolor</th>\n",
       "      <td>296.8</td>\n",
       "      <td>138.5</td>\n",
       "      <td>213.0</td>\n",
       "      <td>66.3</td>\n",
       "    </tr>\n",
       "    <tr>\n",
       "      <th>Iris-virginica</th>\n",
       "      <td>329.4</td>\n",
       "      <td>148.7</td>\n",
       "      <td>277.6</td>\n",
       "      <td>101.3</td>\n",
       "    </tr>\n",
       "  </tbody>\n",
       "</table>\n",
       "</div>"
      ],
      "text/plain": [
       "                 SepalLengthCm  SepalWidthCm  PetalLengthCm  PetalWidthCm\n",
       "Species                                                                  \n",
       "Iris-setosa              250.3         170.9           73.2          12.2\n",
       "Iris-versicolor          296.8         138.5          213.0          66.3\n",
       "Iris-virginica           329.4         148.7          277.6         101.3"
      ]
     },
     "execution_count": 15,
     "metadata": {},
     "output_type": "execute_result"
    }
   ],
   "source": [
    "grouped_data = df.groupby('Species')[['SepalLengthCm','SepalWidthCm', 'PetalLengthCm', 'PetalWidthCm']].sum()\n",
    "grouped_data"
   ]
  },
  {
   "cell_type": "markdown",
   "id": "e37a87c2",
   "metadata": {
    "papermill": {
     "duration": 0.00815,
     "end_time": "2024-12-11T16:35:15.361454",
     "exception": false,
     "start_time": "2024-12-11T16:35:15.353304",
     "status": "completed"
    },
    "tags": []
   },
   "source": [
    "## Task 4: Data Reshaping\n",
    "* **Reshape the Dataset into a Long Format:** Reshape the dataset from a wide format to a long format. The goal is to create a new version of the dataset where each row corresponds to a single measurement (sepal length, sepal width, petal length, or petal width) for each flower."
   ]
  },
  {
   "cell_type": "code",
   "execution_count": 16,
   "id": "19236f6a",
   "metadata": {
    "execution": {
     "iopub.execute_input": "2024-12-11T16:35:15.379343Z",
     "iopub.status.busy": "2024-12-11T16:35:15.378938Z",
     "iopub.status.idle": "2024-12-11T16:35:15.397038Z",
     "shell.execute_reply": "2024-12-11T16:35:15.395709Z"
    },
    "papermill": {
     "duration": 0.029916,
     "end_time": "2024-12-11T16:35:15.399595",
     "exception": false,
     "start_time": "2024-12-11T16:35:15.369679",
     "status": "completed"
    },
    "tags": []
   },
   "outputs": [
    {
     "data": {
      "text/html": [
       "<div>\n",
       "<style scoped>\n",
       "    .dataframe tbody tr th:only-of-type {\n",
       "        vertical-align: middle;\n",
       "    }\n",
       "\n",
       "    .dataframe tbody tr th {\n",
       "        vertical-align: top;\n",
       "    }\n",
       "\n",
       "    .dataframe thead th {\n",
       "        text-align: right;\n",
       "    }\n",
       "</style>\n",
       "<table border=\"1\" class=\"dataframe\">\n",
       "  <thead>\n",
       "    <tr style=\"text-align: right;\">\n",
       "      <th></th>\n",
       "      <th>Id</th>\n",
       "      <th>Measurement</th>\n",
       "      <th>Value</th>\n",
       "    </tr>\n",
       "  </thead>\n",
       "  <tbody>\n",
       "    <tr>\n",
       "      <th>0</th>\n",
       "      <td>1</td>\n",
       "      <td>SepalLengthCm</td>\n",
       "      <td>5.1</td>\n",
       "    </tr>\n",
       "    <tr>\n",
       "      <th>1</th>\n",
       "      <td>2</td>\n",
       "      <td>SepalLengthCm</td>\n",
       "      <td>4.9</td>\n",
       "    </tr>\n",
       "    <tr>\n",
       "      <th>2</th>\n",
       "      <td>3</td>\n",
       "      <td>SepalLengthCm</td>\n",
       "      <td>4.7</td>\n",
       "    </tr>\n",
       "    <tr>\n",
       "      <th>3</th>\n",
       "      <td>4</td>\n",
       "      <td>SepalLengthCm</td>\n",
       "      <td>4.6</td>\n",
       "    </tr>\n",
       "    <tr>\n",
       "      <th>4</th>\n",
       "      <td>5</td>\n",
       "      <td>SepalLengthCm</td>\n",
       "      <td>5.0</td>\n",
       "    </tr>\n",
       "    <tr>\n",
       "      <th>...</th>\n",
       "      <td>...</td>\n",
       "      <td>...</td>\n",
       "      <td>...</td>\n",
       "    </tr>\n",
       "    <tr>\n",
       "      <th>1345</th>\n",
       "      <td>146</td>\n",
       "      <td>Species_Numerical</td>\n",
       "      <td>2</td>\n",
       "    </tr>\n",
       "    <tr>\n",
       "      <th>1346</th>\n",
       "      <td>147</td>\n",
       "      <td>Species_Numerical</td>\n",
       "      <td>2</td>\n",
       "    </tr>\n",
       "    <tr>\n",
       "      <th>1347</th>\n",
       "      <td>148</td>\n",
       "      <td>Species_Numerical</td>\n",
       "      <td>2</td>\n",
       "    </tr>\n",
       "    <tr>\n",
       "      <th>1348</th>\n",
       "      <td>149</td>\n",
       "      <td>Species_Numerical</td>\n",
       "      <td>2</td>\n",
       "    </tr>\n",
       "    <tr>\n",
       "      <th>1349</th>\n",
       "      <td>150</td>\n",
       "      <td>Species_Numerical</td>\n",
       "      <td>2</td>\n",
       "    </tr>\n",
       "  </tbody>\n",
       "</table>\n",
       "<p>1350 rows × 3 columns</p>\n",
       "</div>"
      ],
      "text/plain": [
       "       Id        Measurement Value\n",
       "0       1      SepalLengthCm   5.1\n",
       "1       2      SepalLengthCm   4.9\n",
       "2       3      SepalLengthCm   4.7\n",
       "3       4      SepalLengthCm   4.6\n",
       "4       5      SepalLengthCm   5.0\n",
       "...   ...                ...   ...\n",
       "1345  146  Species_Numerical     2\n",
       "1346  147  Species_Numerical     2\n",
       "1347  148  Species_Numerical     2\n",
       "1348  149  Species_Numerical     2\n",
       "1349  150  Species_Numerical     2\n",
       "\n",
       "[1350 rows x 3 columns]"
      ]
     },
     "execution_count": 16,
     "metadata": {},
     "output_type": "execute_result"
    }
   ],
   "source": [
    "df_long = df.melt(id_vars='Id', \n",
    "                 var_name='Measurement', \n",
    "                 value_name='Value')\n",
    "df_long"
   ]
  },
  {
   "cell_type": "code",
   "execution_count": null,
   "id": "085d3f6d",
   "metadata": {
    "papermill": {
     "duration": 0.007568,
     "end_time": "2024-12-11T16:35:15.415246",
     "exception": false,
     "start_time": "2024-12-11T16:35:15.407678",
     "status": "completed"
    },
    "tags": []
   },
   "outputs": [],
   "source": []
  }
 ],
 "metadata": {
  "kaggle": {
   "accelerator": "none",
   "dataSources": [
    {
     "datasetId": 6279120,
     "sourceId": 10167754,
     "sourceType": "datasetVersion"
    }
   ],
   "dockerImageVersionId": 30804,
   "isGpuEnabled": false,
   "isInternetEnabled": true,
   "language": "python",
   "sourceType": "notebook"
  },
  "kernelspec": {
   "display_name": "Python 3",
   "language": "python",
   "name": "python3"
  },
  "language_info": {
   "codemirror_mode": {
    "name": "ipython",
    "version": 3
   },
   "file_extension": ".py",
   "mimetype": "text/x-python",
   "name": "python",
   "nbconvert_exporter": "python",
   "pygments_lexer": "ipython3",
   "version": "3.10.14"
  },
  "papermill": {
   "default_parameters": {},
   "duration": 4.906753,
   "end_time": "2024-12-11T16:35:15.945151",
   "environment_variables": {},
   "exception": null,
   "input_path": "__notebook__.ipynb",
   "output_path": "__notebook__.ipynb",
   "parameters": {},
   "start_time": "2024-12-11T16:35:11.038398",
   "version": "2.6.0"
  }
 },
 "nbformat": 4,
 "nbformat_minor": 5
}
