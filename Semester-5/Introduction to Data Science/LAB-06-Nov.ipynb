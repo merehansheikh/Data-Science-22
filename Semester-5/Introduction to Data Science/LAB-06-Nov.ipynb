{
 "cells": [
  {
   "cell_type": "markdown",
   "metadata": {},
   "source": [
    "# IDS LAB (06-Nov-2024)"
   ]
  },
  {
   "cell_type": "markdown",
   "metadata": {},
   "source": [
    "## Task 1:\n",
    "### Scenario: *You are managing game scores for a gaming application.*"
   ]
  },
  {
   "cell_type": "markdown",
   "metadata": {},
   "source": [
    "**1. Create a NumPy array to store player names, game scores, and levels reached.**"
   ]
  },
  {
   "cell_type": "code",
   "execution_count": 1,
   "metadata": {},
   "outputs": [
    {
     "name": "stdout",
     "output_type": "stream",
     "text": [
      "Initial Player Data:\n",
      "[['Ali' 1000 5]\n",
      " ['Haris' 800 4]\n",
      " ['Talha' 1200 6]\n",
      " ['Durrab' 900 5]\n",
      " ['Saad' 700 3]]\n"
     ]
    }
   ],
   "source": [
    "import numpy as np\n",
    "\n",
    "player_data = np.array([\n",
    "    [\"Ali\", 1000, 5],\n",
    "    [\"Haris\", 800, 4],\n",
    "    [\"Talha\", 1200, 6],\n",
    "    [\"Durrab\", 900, 5],\n",
    "    [\"Saad\", 700, 3]\n",
    "], dtype=object)\n",
    "\n",
    "print(\"Initial Player Data:\")\n",
    "print(player_data)\n"
   ]
  },
  {
   "cell_type": "markdown",
   "metadata": {},
   "source": [
    "**2. Update the score of the player who has reached the highest level.**"
   ]
  },
  {
   "cell_type": "code",
   "execution_count": 2,
   "metadata": {},
   "outputs": [
    {
     "name": "stdout",
     "output_type": "stream",
     "text": [
      "Updated Player Data After Score Update:\n",
      "[['Ali' 1000 5]\n",
      " ['Haris' 800 4]\n",
      " ['Talha' 1300 6]\n",
      " ['Durrab' 900 5]\n",
      " ['Saad' 700 3]]\n"
     ]
    }
   ],
   "source": [
    "max_level_index = np.argmax(player_data[:, 2])\n",
    "player_data[max_level_index, 1] += 100\n",
    "\n",
    "print(\"Updated Player Data After Score Update:\")\n",
    "print(player_data)\n"
   ]
  },
  {
   "cell_type": "markdown",
   "metadata": {},
   "source": [
    "**3. Append a new player's data (name, score, level) to the array.**"
   ]
  },
  {
   "cell_type": "code",
   "execution_count": 3,
   "metadata": {},
   "outputs": [
    {
     "name": "stdout",
     "output_type": "stream",
     "text": [
      "Updated Player Data After Adding New Player:\n",
      "[['Ali' 1000 5]\n",
      " ['Haris' 800 4]\n",
      " ['Talha' 1300 6]\n",
      " ['Durrab' 900 5]\n",
      " ['Saad' 700 3]\n",
      " ['Rehan' 1100 6]]\n"
     ]
    }
   ],
   "source": [
    "new_player = np.array([[\"Rehan\", 1100, 6]], dtype=object)\n",
    "player_data = np.vstack((player_data, new_player))\n",
    "\n",
    "print(\"Updated Player Data After Adding New Player:\")\n",
    "print(player_data)\n"
   ]
  },
  {
   "cell_type": "markdown",
   "metadata": {},
   "source": [
    "**4. Insert a new player's score at a specific index within the array.**"
   ]
  },
  {
   "cell_type": "code",
   "execution_count": 4,
   "metadata": {},
   "outputs": [
    {
     "name": "stdout",
     "output_type": "stream",
     "text": [
      "\n",
      "Updated Player Data After Inserting New Player:\n",
      "[['Ali' 1000 5]\n",
      " ['Haris' 800 4]\n",
      " ['Affan' 1000 5]\n",
      " ['Talha' 1300 6]\n",
      " ['Durrab' 900 5]\n",
      " ['Saad' 700 3]\n",
      " ['Rehan' 1100 6]]\n"
     ]
    }
   ],
   "source": [
    "new_player = np.array([[\"Affan\", 1000, 5]], dtype=object)\n",
    "player_data = np.insert(player_data, 2, new_player, axis=0)\n",
    "\n",
    "print(\"\\nUpdated Player Data After Inserting New Player:\")\n",
    "print(player_data)"
   ]
  },
  {
   "cell_type": "markdown",
   "metadata": {},
   "source": [
    "**5. Delete the player with the lowest score from the dataset.**"
   ]
  },
  {
   "cell_type": "code",
   "execution_count": 5,
   "metadata": {},
   "outputs": [
    {
     "name": "stdout",
     "output_type": "stream",
     "text": [
      "\n",
      "Updated Player Data After Deleting Player with Lowest Score:\n",
      "[['Ali' 1000 5]\n",
      " ['Haris' 800 4]\n",
      " ['Affan' 1000 5]\n",
      " ['Talha' 1300 6]\n",
      " ['Durrab' 900 5]\n",
      " ['Rehan' 1100 6]]\n"
     ]
    }
   ],
   "source": [
    "min_score_index = np.argmin(player_data[:, 1])\n",
    "player_data = np.delete(player_data, min_score_index, axis=0)\n",
    "\n",
    "print(\"\\nUpdated Player Data After Deleting Player with Lowest Score:\")\n",
    "print(player_data)"
   ]
  },
  {
   "cell_type": "markdown",
   "metadata": {},
   "source": [
    "## Task 2:\n",
    "### Scenario: *You are analyzing website traffic data.*"
   ]
  },
  {
   "cell_type": "markdown",
   "metadata": {},
   "source": [
    "**1. Create two NumPy arrays: one for daily visitors and another for pages viewed.**"
   ]
  },
  {
   "cell_type": "code",
   "execution_count": 6,
   "metadata": {},
   "outputs": [
    {
     "name": "stdout",
     "output_type": "stream",
     "text": [
      "Daily Visitors:\n",
      " [100 120 150 180 200 250 300]\n",
      "\n",
      "Pages Viewed:\n",
      " [ 50  60  70  80 100 120 150]\n"
     ]
    }
   ],
   "source": [
    "daily_visitors = np.array([100, 120, 150, 180, 200, 250, 300])\n",
    "pages_viewed = np.array([50, 60, 70, 80, 100, 120, 150])\n",
    "\n",
    "print(\"Daily Visitors:\\n\", daily_visitors)\n",
    "print()\n",
    "print(\"Pages Viewed:\\n\", pages_viewed)"
   ]
  },
  {
   "cell_type": "markdown",
   "metadata": {},
   "source": [
    "**2. Create a shallow copy of the visitors array and a deep copy of the pages viewed array.**"
   ]
  },
  {
   "cell_type": "code",
   "execution_count": 13,
   "metadata": {},
   "outputs": [
    {
     "name": "stdout",
     "output_type": "stream",
     "text": [
      "Visitors Copy (Shallow):\n",
      " [500 120 150 180 200 250 300]\n",
      "\n",
      "Pages Copy (Deep):\n",
      " [200  60  70  80 100 120 150]\n"
     ]
    }
   ],
   "source": [
    "visitors_copy = daily_visitors\n",
    "pages_copy = pages_viewed.copy()\n",
    "\n",
    "print(\"Visitors Copy (Shallow):\\n\", visitors_copy)\n",
    "print()\n",
    "print(\"Pages Copy (Deep):\\n\", pages_copy)"
   ]
  },
  {
   "cell_type": "markdown",
   "metadata": {},
   "source": [
    "**3. Concatenate both arrays to form a new array.**"
   ]
  },
  {
   "cell_type": "code",
   "execution_count": 8,
   "metadata": {},
   "outputs": [
    {
     "name": "stdout",
     "output_type": "stream",
     "text": [
      "Concatenated Traffic Data:\n",
      "[[100  50]\n",
      " [120  60]\n",
      " [150  70]\n",
      " [180  80]\n",
      " [200 100]\n",
      " [250 120]\n",
      " [300 150]]\n"
     ]
    }
   ],
   "source": [
    "traffic_data = np.stack((daily_visitors, pages_viewed), axis=1)\n",
    "\n",
    "print(\"Concatenated Traffic Data:\")\n",
    "print(traffic_data)"
   ]
  },
  {
   "cell_type": "markdown",
   "metadata": {},
   "source": [
    "**4. Split the concatenated array into two parts based on a threshold (e.g., more than 100 pages viewed).**"
   ]
  },
  {
   "cell_type": "code",
   "execution_count": 9,
   "metadata": {},
   "outputs": [
    {
     "name": "stdout",
     "output_type": "stream",
     "text": [
      "\n",
      "High Traffic (>100 pages viewed):\n",
      "[[250 120]\n",
      " [300 150]]\n",
      "\n",
      "Low Traffic (<=100 pages viewed):\n",
      "[[100  50]\n",
      " [120  60]\n",
      " [150  70]\n",
      " [180  80]\n",
      " [200 100]]\n"
     ]
    }
   ],
   "source": [
    "threshold = 100\n",
    "high_traffic = traffic_data[traffic_data[:, 1] > threshold]\n",
    "low_traffic = traffic_data[traffic_data[:, 1] <= threshold]\n",
    "\n",
    "print(\"\\nHigh Traffic (>100 pages viewed):\")\n",
    "print(high_traffic)\n",
    "print(\"\\nLow Traffic (<=100 pages viewed):\")\n",
    "print(low_traffic)"
   ]
  },
  {
   "cell_type": "markdown",
   "metadata": {},
   "source": [
    "**5. Modify the original arrays and observe the changes in the copies.**"
   ]
  },
  {
   "cell_type": "code",
   "execution_count": 14,
   "metadata": {},
   "outputs": [
    {
     "name": "stdout",
     "output_type": "stream",
     "text": [
      "\n",
      "Modified Daily Visitors:\n",
      "[500 120 150 180 200 250 300]\n",
      "\n",
      "Modified Pages Viewed:\n",
      "[200  60  70  80 100 120 150]\n",
      "\n",
      "Visitors Copy After Modification:\n",
      "[500 120 150 180 200 250 300]\n",
      "\n",
      "Pages Copy After Modification:\n",
      "[200  60  70  80 100 120 150]\n"
     ]
    }
   ],
   "source": [
    "daily_visitors[0] = 500\n",
    "pages_viewed[0] = 200\n",
    "\n",
    "print(\"\\nModified Daily Visitors:\")\n",
    "print(daily_visitors)\n",
    "print(\"\\nModified Pages Viewed:\")\n",
    "print(pages_viewed)\n",
    "print(\"\\nVisitors Copy After Modification:\")\n",
    "print(visitors_copy)\n",
    "print(\"\\nPages Copy After Modification:\")\n",
    "print(pages_copy)"
   ]
  }
 ],
 "metadata": {
  "kernelspec": {
   "display_name": "Python 3",
   "language": "python",
   "name": "python3"
  },
  "language_info": {
   "codemirror_mode": {
    "name": "ipython",
    "version": 3
   },
   "file_extension": ".py",
   "mimetype": "text/x-python",
   "name": "python",
   "nbconvert_exporter": "python",
   "pygments_lexer": "ipython3",
   "version": "3.11.3"
  }
 },
 "nbformat": 4,
 "nbformat_minor": 2
}
